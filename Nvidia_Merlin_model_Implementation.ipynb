{
 "cells": [
  {
   "cell_type": "markdown",
   "id": "d526c272",
   "metadata": {},
   "source": [
    "### Building a Retrieval Model with Merlin Models\n",
    "This notebook is created using the latest stable merlin-tensorflow container.\n",
    "\n",
    "In large scale recommender systems pipelines, the size of the item catalog (number of unique items) might be in the order of millions. At such scale, a typical setup is having two-stage pipeline, where a faster candidate retrieval model quickly extracts thousands of relevant items and a then a more powerful ranking model (i.e. with more features and more powerful architecture) ranks the top-k items that are going to be displayed to the user. For ML-based candidate retrieval model, as it needs to quickly score millions of items for a given user, a popular choices are models that can produce recommendation scores by just computing the dot product the user embeddings and item embeddings. Popular choices of such models are Matrix Factorization, which learns low-rank user and item embeddings, and the Two-Tower architecture, which is a neural network with two MLP towers where both user and item features are fed to generate user and item embeddings in the output.\n",
    "\n",
    "Dataset\n",
    "In this notebook, we are building a Two-Tower model for Item Retrieval task using synthetic datasets that are mimicking the real Ali-CCP: Alibaba Click and Conversion Prediction dataset.\n",
    "\n",
    "Learning objectives\n",
    "Preparing the data with NVTabular\n",
    "Training and evaluating Two-Tower model with Merlin Models\n",
    "Exporting the model for deployment\n",
    "Importing Libraries"
   ]
  },
  {
   "cell_type": "code",
   "execution_count": 18,
   "id": "b449e9ea",
   "metadata": {},
   "outputs": [],
   "source": [
    "import merlin.models.tf as mm\n",
    "from merlin.io.dataset import Dataset"
   ]
  },
  {
   "cell_type": "code",
   "execution_count": 19,
   "id": "bfcec843",
   "metadata": {},
   "outputs": [],
   "source": [
    "import os\n",
    "\n",
    "from merlin.models.utils.example_utils import workflow_fit_transform\n",
    "\n",
    "from merlin.schema.tags import Tags\n",
    "\n",
    "import tensorflow as tf"
   ]
  },
  {
   "cell_type": "code",
   "execution_count": 20,
   "id": "abb5d03a",
   "metadata": {},
   "outputs": [],
   "source": [
    "\n",
    "import nvtabular as nvt\n",
    "from nvtabular.ops import *"
   ]
  },
  {
   "cell_type": "markdown",
   "id": "23217f33",
   "metadata": {},
   "source": [
    "## Feature Engineering with NVTabular\n",
    "Let's generate synthetic train and validation dataset objects."
   ]
  },
  {
   "cell_type": "code",
   "execution_count": 21,
   "id": "eb8008bc",
   "metadata": {},
   "outputs": [],
   "source": [
    "from merlin.datasets.synthetic import generate_data\n",
    "\n",
    "DATA_FOLDER = os.environ.get(\"DATA_FOLDER\", \"/workspace/data/\")\n",
    "NUM_ROWS = os.environ.get(\"NUM_ROWS\", 10000)\n",
    "SYNTHETIC_DATA = eval(os.environ.get(\"SYNTHETIC_DATA\", \"True\"))\n",
    "\n",
    "if SYNTHETIC_DATA:\n",
    "    train, valid = generate_data(\"aliccp-raw\", int(NUM_ROWS), set_sizes=(0.7, 0.3))\n",
    "else:\n",
    "    train = nvt.Dataset(DATA_FOLDER + \"/train/*.parquet\")\n",
    "    valid = nvt.Dataset(DATA_FOLDER + \"/valid/*.parquet\")"
   ]
  },
  {
   "cell_type": "code",
   "execution_count": 22,
   "id": "bd1302df",
   "metadata": {},
   "outputs": [
    {
     "data": {
      "text/plain": [
       "'/workspace/data/processed'"
      ]
     },
     "execution_count": 22,
     "metadata": {},
     "output_type": "execute_result"
    }
   ],
   "source": [
    "# define output path for the processed parquet files\n",
    "output_path = os.path.join(DATA_FOLDER, \"processed\")\n",
    "output_path"
   ]
  },
  {
   "cell_type": "code",
   "execution_count": 23,
   "id": "6234f99d",
   "metadata": {},
   "outputs": [
    {
     "data": {
      "text/plain": [
       "'C:\\\\Users\\\\Sushanth S\\\\Class Lectures\\\\Internshp_SFC\\\\models-main'"
      ]
     },
     "execution_count": 23,
     "metadata": {},
     "output_type": "execute_result"
    }
   ],
   "source": [
    "import os\n",
    "os.getcwd()"
   ]
  },
  {
   "cell_type": "markdown",
   "id": "3e04b410",
   "metadata": {},
   "source": [
    "We keep only positive interactions where clicks==1 in the dataset with Filter() op."
   ]
  },
  {
   "cell_type": "code",
   "execution_count": 24,
   "id": "fd008bfa",
   "metadata": {},
   "outputs": [],
   "source": [
    "category_temp_directory = os.path.join(DATA_FOLDER, \"categories\")\n",
    "user_id = [\"user_id\"] >> Categorify(out_path=category_temp_directory) >> TagAsUserID()\n",
    "item_id = [\"item_id\"] >> Categorify(out_path=category_temp_directory) >> TagAsItemID()\n",
    "\n",
    "item_features = [\"item_category\", \"item_shop\", \"item_brand\"] >> Categorify(out_path=category_temp_directory) >> TagAsItemFeatures()\n",
    "\n",
    "user_features = (\n",
    "    [\n",
    "        \"user_shops\",\n",
    "        \"user_profile\",\n",
    "        \"user_group\",\n",
    "        \"user_gender\",\n",
    "        \"user_age\",\n",
    "        \"user_consumption_2\",\n",
    "        \"user_is_occupied\",\n",
    "        \"user_geography\",\n",
    "        \"user_intentions\",\n",
    "        \"user_brands\",\n",
    "        \"user_categories\",\n",
    "    ]\n",
    "    >> Categorify(out_path=category_temp_directory)\n",
    "    >> TagAsUserFeatures()\n",
    ")\n",
    "\n",
    "inputs = user_id + item_id + item_features + user_features + [\"click\"]\n",
    "\n",
    "outputs = inputs >> Filter(f=lambda df: df[\"click\"] == 1)"
   ]
  },
  {
   "cell_type": "markdown",
   "id": "9d24bd54",
   "metadata": {},
   "source": [
    "With transform_aliccp function, we can execute fit() and transform() on the raw dataset applying the operators defined in the NVTabular workflow pipeline above. The processed parquet files are saved to output_path."
   ]
  },
  {
   "cell_type": "code",
   "execution_count": 25,
   "id": "95e2d337",
   "metadata": {},
   "outputs": [
    {
     "name": "stderr",
     "output_type": "stream",
     "text": [
      "C:\\Users\\Sushanth S\\Class Lectures\\Internshp_SFC\\models-main\\merlin\\schema\\tags.py:148: UserWarning: Compound tags like Tags.ITEM_ID have been deprecated and will be removed in a future version. Please use the atomic versions of these tags, like [<Tags.ITEM: 'item'>, <Tags.ID: 'id'>].\n",
      "  warnings.warn(\n",
      "C:\\Users\\Sushanth S\\Class Lectures\\Internshp_SFC\\models-main\\merlin\\io\\dataset.py:256: UserWarning: Initializing an NVTabular Dataset in CPU mode.This is an experimental feature with extremely limited support!\n",
      "  warnings.warn(\n",
      "C:\\Users\\Sushanth S\\Class Lectures\\Internshp_SFC\\models-main\\merlin\\schema\\tags.py:148: UserWarning: Compound tags like Tags.USER_ID have been deprecated and will be removed in a future version. Please use the atomic versions of these tags, like [<Tags.USER: 'user'>, <Tags.ID: 'id'>].\n",
      "  warnings.warn(\n",
      "C:\\Users\\Sushanth S\\Class Lectures\\Internshp_SFC\\models-main\\merlin\\schema\\tags.py:148: UserWarning: Compound tags like Tags.ITEM_ID have been deprecated and will be removed in a future version. Please use the atomic versions of these tags, like [<Tags.ITEM: 'item'>, <Tags.ID: 'id'>].\n",
      "  warnings.warn(\n"
     ]
    }
   ],
   "source": [
    "from merlin.datasets.ecommerce import transform_aliccp\n",
    "\n",
    "transform_aliccp((train, valid), output_path, nvt_workflow=outputs)"
   ]
  },
  {
   "cell_type": "markdown",
   "id": "ceeefe60",
   "metadata": {},
   "source": [
    "Building a Two-Tower Model with Merlin Models\n",
    "We will use Two-Tower Model for item retrieval task. Real-world large scale recommender systems have hundreds of millions of items (products) and users. Thus, these systems often composed of two stages: candidate generation (retrieval) and ranking (scoring the retrieved items). At candidate generation step, a subset of relevant items from large item corpus is retrieved. You can read more about two stage Recommender Systems here. In this example, we're going to focus on the retrieval stage.\n",
    "\n",
    "A Two-Tower Model consists of item (candidate) and user (query) encoder towers. With two towers, the model can learn representations (embeddings) for queries and candidates separately."
   ]
  },
  {
   "attachments": {
    "image.png": {
     "image/png": "[encoded data removed]"
    }
   },
   "cell_type": "markdown",
   "id": "1c1c6005",
   "metadata": {},
   "source": [
    "![image.png](attachment:image.png)"
   ]
  },
  {
   "cell_type": "markdown",
   "id": "9ea99495",
   "metadata": {},
   "source": [
    "image Adapted from:(Off-policy Learning in Two-stage Recommender Systems) https://dl.acm.org/doi/abs/10.1145/3366423.3380130\n",
    "\n",
    "We use the schema object to define our model."
   ]
  },
  {
   "cell_type": "code",
   "execution_count": 129,
   "id": "53d8639b",
   "metadata": {},
   "outputs": [
    {
     "data": {
      "text/plain": [
       "'/workspace/data/processed'"
      ]
     },
     "execution_count": 129,
     "metadata": {},
     "output_type": "execute_result"
    }
   ],
   "source": [
    "output_path"
   ]
  },
  {
   "cell_type": "code",
   "execution_count": 130,
   "id": "a172fdc7",
   "metadata": {},
   "outputs": [
    {
     "name": "stderr",
     "output_type": "stream",
     "text": [
      "C:\\Users\\Sushanth S\\Class Lectures\\Internshp_SFC\\models-main\\merlin\\io\\dataset.py:256: UserWarning: Initializing an NVTabular Dataset in CPU mode.This is an experimental feature with extremely limited support!\n",
      "  warnings.warn(\n"
     ]
    }
   ],
   "source": [
    "train = Dataset(os.path.join(output_path, \"train\", \"*.parquet\"))\n",
    "valid = Dataset(os.path.join(output_path, \"valid\", \"*.parquet\"))"
   ]
  },
  {
   "cell_type": "markdown",
   "id": "fefb6561",
   "metadata": {},
   "source": [
    "Select features with user and item tags, and be sure to exclude target column."
   ]
  },
  {
   "cell_type": "code",
   "execution_count": 131,
   "id": "befde7bd",
   "metadata": {},
   "outputs": [],
   "source": [
    "schema = train.schema.select_by_tag([Tags.ITEM_ID, Tags.USER_ID, Tags.ITEM, Tags.USER])\n",
    "train.schema = schema\n",
    "valid.schema = schema"
   ]
  },
  {
   "cell_type": "markdown",
   "id": "15e220f5",
   "metadata": {},
   "source": [
    "We can print out the feature column names."
   ]
  },
  {
   "cell_type": "code",
   "execution_count": 132,
   "id": "e61b8e01",
   "metadata": {},
   "outputs": [
    {
     "data": {
      "text/plain": [
       "['user_id',\n",
       " 'item_id',\n",
       " 'item_category',\n",
       " 'item_shop',\n",
       " 'item_brand',\n",
       " 'user_shops',\n",
       " 'user_profile',\n",
       " 'user_group',\n",
       " 'user_gender',\n",
       " 'user_age',\n",
       " 'user_consumption_2',\n",
       " 'user_is_occupied',\n",
       " 'user_geography',\n",
       " 'user_intentions',\n",
       " 'user_brands',\n",
       " 'user_categories']"
      ]
     },
     "execution_count": 132,
     "metadata": {},
     "output_type": "execute_result"
    }
   ],
   "source": [
    "schema.column_names"
   ]
  },
  {
   "cell_type": "markdown",
   "id": "38c8fdf1",
   "metadata": {},
   "source": [
    "We expect the label names to be empty."
   ]
  },
  {
   "cell_type": "code",
   "execution_count": 133,
   "id": "97b65177",
   "metadata": {},
   "outputs": [
    {
     "data": {
      "text/plain": [
       "[]"
      ]
     },
     "execution_count": 133,
     "metadata": {},
     "output_type": "execute_result"
    }
   ],
   "source": [
    "label_names = schema.select_by_tag(Tags.TARGET).column_names\n",
    "label_names"
   ]
  },
  {
   "cell_type": "markdown",
   "id": "14cae36d",
   "metadata": {},
   "source": [
    "###### Negative sampling\n",
    "Many datasets for recommender systems contain implicit feedback with logs of user interactions like clicks, add-to-cart, purchases, music listening events, rather than explicit ratings that reflects user preferences over items. To be able to learn from implicit feedback, we use the general (and naive) assumption that the interacted items are more relevant for the user than the non-interacted ones. In Merlin Models we provide some scalable negative sampling algorithms for the Item Retrieval Task. In particular, we use in this example the in-batch sampling algorithm which uses the items interacted by other users as negatives within the same mini-batch.\n",
    "\n",
    "**Building the Model**\n",
    "\n",
    "    Now, let's build our Two-Tower model. In a nutshell, we aggregate all user features to feed in user tower and feed the item features to the item tower. Then we compute the positive score by multiplying the user embedding with the item embedding and sample negative items (read more about negative sampling here and here), whose item embeddings are also multiplied by the user embedding. Then we apply the loss function on top of the positive and negative scores.\n",
    "    https://openreview.net/pdf?id=824xC-SgWgU\n",
    "    https://medium.com/mlearning-ai/overview-negative-sampling-on-recommendation-systems-230a051c6cd7"
   ]
  },
  {
   "cell_type": "code",
   "execution_count": 134,
   "id": "87941983",
   "metadata": {},
   "outputs": [],
   "source": [
    "model = mm.TwoTowerModel(\n",
    "    schema,\n",
    "    query_tower=mm.MLPBlock([128, 64], no_activation_last_layer=True),\n",
    "    samplers=[mm.InBatchSampler()],\n",
    "    embedding_options=mm.EmbeddingOptions(infer_embedding_sizes=True),\n",
    ")"
   ]
  },
  {
   "cell_type": "markdown",
   "id": "d7892d8c",
   "metadata": {},
   "source": [
    "Let's explain the parameters in the TwoTowerModel():\n",
    "\n",
    "1. no_activation_last_layer: when set True, no activation is used for top hidden layer. Learn more here.\n",
    "2. infer_embedding_sizes: when set True, automatically defines the embedding dimension from the feature cardinality in the schema\n",
    "\n",
    "**> Metrics:**\n",
    "\n",
    "The following information retrieval metrics are used to compute the Top-10 accuracy of recommendation lists containing all items:\n",
    "\n",
    "**Normalized Discounted Cumulative Gain (NDCG@10):** NDCG accounts for rank of the relevant item in the recommendation list and is a more fine-grained metric than HR, which only verifies whether the relevant item is among the top-k items.\n",
    "\n",
    "**Recall@10:** Also known as HitRate@n when there is only one relevant item in the recommendation list. Recall just verifies whether the relevant item is among the top-n items.\n",
    "\n",
    "We need to initialize the dataloaders."
   ]
  },
  {
   "cell_type": "code",
   "execution_count": 135,
   "id": "745856b7",
   "metadata": {},
   "outputs": [
    {
     "name": "stderr",
     "output_type": "stream",
     "text": [
      "C:\\ProgramData\\Anaconda3\\lib\\site-packages\\keras\\initializers\\initializers_v2.py:120: UserWarning: The initializer TruncatedNormal is unseeded and being called multiple times, which will return identical values  each time (even if the initializer is unseeded). Please update your code to provide a seed to the initializer, or avoid using the same initalizer instance more than once.\n",
      "  warnings.warn(\n"
     ]
    },
    {
     "name": "stdout",
     "output_type": "stream",
     "text": [
      "Epoch 1/3\n",
      "WARNING:tensorflow:AutoGraph could not transform <bound method Socket.send of <zmq.Socket(zmq.PUSH) at 0x2475ad35460>> and will run it as-is.\n",
      "Please report this to the TensorFlow team. When filing the bug, set the verbosity to 10 (on Linux, `export AUTOGRAPH_VERBOSITY=10`) and attach the full output.\n",
      "Cause: module, class, method, function, traceback, frame, or code object was expected, got cython_function_or_method\n",
      "To silence this warning, decorate the function with @tf.autograph.experimental.do_not_convert\n"
     ]
    },
    {
     "name": "stderr",
     "output_type": "stream",
     "text": [
      "WARNING:merlin_models:The sampler InBatchSampler returned no samples for this batch.\n",
      "WARNING:tensorflow:AutoGraph could not transform <bound method Socket.send of <zmq.Socket(zmq.PUSH) at 0x2475ad35460>> and will run it as-is.\n",
      "Please report this to the TensorFlow team. When filing the bug, set the verbosity to 10 (on Linux, `export AUTOGRAPH_VERBOSITY=10`) and attach the full output.\n",
      "Cause: module, class, method, function, traceback, frame, or code object was expected, got cython_function_or_method\n",
      "To silence this warning, decorate the function with @tf.autograph.experimental.do_not_convert\n"
     ]
    },
    {
     "name": "stdout",
     "output_type": "stream",
     "text": [
      "WARNING: AutoGraph could not transform <bound method Socket.send of <zmq.Socket(zmq.PUSH) at 0x2475ad35460>> and will run it as-is.\n",
      "Please report this to the TensorFlow team. When filing the bug, set the verbosity to 10 (on Linux, `export AUTOGRAPH_VERBOSITY=10`) and attach the full output.\n",
      "Cause: module, class, method, function, traceback, frame, or code object was expected, got cython_function_or_method\n",
      "To silence this warning, decorate the function with @tf.autograph.experimental.do_not_convert\n",
      "2/2 [==============================] - ETA: 0s - loss: 8.1570 - recall_at_10: 0.0053 - ndcg_at_10: 0.0033 - regularization_loss: 0.0000e+00 - loss_batch: 8.1277"
     ]
    },
    {
     "name": "stderr",
     "output_type": "stream",
     "text": [
      "WARNING:merlin_models:The sampler InBatchSampler returned no samples for this batch.\n"
     ]
    },
    {
     "name": "stdout",
     "output_type": "stream",
     "text": [
      "2/2 [==============================] - 10s 1s/step - loss: 8.1570 - recall_at_10: 0.0057 - ndcg_at_10: 0.0035 - regularization_loss: 0.0000e+00 - loss_batch: 8.0702 - val_loss: 7.9885 - val_recall_at_10: 0.0070 - val_ndcg_at_10: 0.0039 - val_regularization_loss: 0.0000e+00 - val_loss_batch: 7.9885\n",
      "Epoch 2/3\n",
      "2/2 [==============================] - 1s 458ms/step - loss: 8.1567 - recall_at_10: 0.0093 - ndcg_at_10: 0.0056 - regularization_loss: 0.0000e+00 - loss_batch: 8.0699 - val_loss: 7.9885 - val_recall_at_10: 0.0107 - val_ndcg_at_10: 0.0050 - val_regularization_loss: 0.0000e+00 - val_loss_batch: 7.9885\n",
      "Epoch 3/3\n",
      "2/2 [==============================] - 1s 496ms/step - loss: 8.1563 - recall_at_10: 0.0145 - ndcg_at_10: 0.0092 - regularization_loss: 0.0000e+00 - loss_batch: 8.0695 - val_loss: 7.9885 - val_recall_at_10: 0.0180 - val_ndcg_at_10: 0.0087 - val_regularization_loss: 0.0000e+00 - val_loss_batch: 7.9885\n"
     ]
    },
    {
     "data": {
      "text/plain": [
       "<keras.callbacks.History at 0x2477f0abf40>"
      ]
     },
     "execution_count": 135,
     "metadata": {},
     "output_type": "execute_result"
    }
   ],
   "source": [
    "model.compile(optimizer=\"adam\", run_eagerly=False, metrics=[mm.RecallAt(10), mm.NDCGAt(10)])\n",
    "model.fit(train, validation_data=valid, batch_size=4096, epochs=3)"
   ]
  },
  {
   "cell_type": "markdown",
   "id": "c4ec3b75",
   "metadata": {},
   "source": [
    "# Error Solution:"
   ]
  },
  {
   "cell_type": "code",
   "execution_count": null,
   "id": "80b86323",
   "metadata": {},
   "outputs": [],
   "source": [
    "from numpy.random import RandomState\n",
    "np.random.randint(0, 2**32,dtype='int64')"
   ]
  },
  {
   "cell_type": "code",
   "execution_count": null,
   "id": "110a86e6",
   "metadata": {},
   "outputs": [],
   "source": [
    "#inside dispatch.py line no 656 change made from original"
   ]
  },
  {
   "cell_type": "code",
   "execution_count": null,
   "id": "d6d3c105",
   "metadata": {},
   "outputs": [],
   "source": [
    "import numpy as np"
   ]
  },
  {
   "cell_type": "code",
   "execution_count": null,
   "id": "01e9746e",
   "metadata": {},
   "outputs": [],
   "source": [
    "# Random states\n",
    "def get_states(random_state, low, high, size):\n",
    "    rs = np.random.RandomState(random_state)\n",
    "    states = rs.randint(low=low, high=high, size=size)\n",
    "    return states\n",
    "\n",
    "# Call function\n",
    "states = get_states(random_state=42, low=2, high=28347, size=25)"
   ]
  },
  {
   "cell_type": "markdown",
   "id": "8142d7f3",
   "metadata": {},
   "source": [
    "### Exporting Retrieval Models\n",
    "So far we have trained and evaluated our Retrieval model. Now, the next step is to deploy our model and generate top-K recommendations given a user (query). We can efficiently serve our model by indexing the trained item embeddings into an Approximate Nearest Neighbors (ANN) engine. Basically, for a given user query vector, that is generated passing the user features into user tower of retrieval model, we do an ANN search query to find the ids of nearby item vectors, and at serve time, we score user embeddings over all indexed top-K item embeddings within the ANN engine.\n",
    "\n",
    "In doing so, we need to export\n",
    "\n",
    "1. user (query) tower\n",
    "2. item and user features\n",
    "3. item embeddings\n",
    ">**Save User (query) tower**\n",
    "We are able to save the user tower model as a TF model to disk. The user tower model is needed to generate a user embedding vector when a user feature vector x is fed into that model."
   ]
  },
  {
   "cell_type": "code",
   "execution_count": 136,
   "id": "945895fd",
   "metadata": {},
   "outputs": [
    {
     "name": "stderr",
     "output_type": "stream",
     "text": [
      "WARNING:absl:Found untraced functions such as model_context_3_layer_call_fn, model_context_3_layer_call_and_return_conditional_losses, parallel_block_1_layer_call_fn, parallel_block_1_layer_call_and_return_conditional_losses, sequential_block_17_layer_call_fn while saving (showing 5 of 54). These functions will not be directly callable after loading.\n"
     ]
    },
    {
     "name": "stdout",
     "output_type": "stream",
     "text": [
      "INFO:tensorflow:Assets written to: /workspace/data/query_tower\\assets\n"
     ]
    },
    {
     "name": "stderr",
     "output_type": "stream",
     "text": [
      "INFO:tensorflow:Assets written to: /workspace/data/query_tower\\assets\n"
     ]
    }
   ],
   "source": [
    "query_tower = model.retrieval_block.query_block()\n",
    "query_tower.save(os.path.join(DATA_FOLDER, \"query_tower\"))"
   ]
  },
  {
   "cell_type": "markdown",
   "id": "a23be2b2",
   "metadata": {},
   "source": [
    "### Extract and save User features\n",
    "With unique_rows_by_features utility function we can easily extract both unique user and item features tables as cuDF dataframes. Note that for user features table, we use USER and USER_ID tags."
   ]
  },
  {
   "cell_type": "code",
   "execution_count": 137,
   "id": "96152bff",
   "metadata": {},
   "outputs": [
    {
     "name": "stderr",
     "output_type": "stream",
     "text": [
      "C:\\Users\\Sushanth S\\Class Lectures\\Internshp_SFC\\models-main\\merlin\\io\\dataset.py:256: UserWarning: Initializing an NVTabular Dataset in CPU mode.This is an experimental feature with extremely limited support!\n",
      "  warnings.warn(\n"
     ]
    }
   ],
   "source": [
    "from merlin.models.utils.dataset import unique_rows_by_features\n",
    "\n",
    "user_features = (\n",
    "    unique_rows_by_features(train, Tags.USER, Tags.USER_ID).compute().reset_index(drop=True)\n",
    ")"
   ]
  },
  {
   "cell_type": "code",
   "execution_count": 138,
   "id": "cbb7443e",
   "metadata": {},
   "outputs": [
    {
     "data": {
      "text/html": [
       "<div>\n",
       "<style scoped>\n",
       "    .dataframe tbody tr th:only-of-type {\n",
       "        vertical-align: middle;\n",
       "    }\n",
       "\n",
       "    .dataframe tbody tr th {\n",
       "        vertical-align: top;\n",
       "    }\n",
       "\n",
       "    .dataframe thead th {\n",
       "        text-align: right;\n",
       "    }\n",
       "</style>\n",
       "<table border=\"1\" class=\"dataframe\">\n",
       "  <thead>\n",
       "    <tr style=\"text-align: right;\">\n",
       "      <th></th>\n",
       "      <th>user_id</th>\n",
       "      <th>user_shops</th>\n",
       "      <th>user_profile</th>\n",
       "      <th>user_group</th>\n",
       "      <th>user_gender</th>\n",
       "      <th>user_age</th>\n",
       "      <th>user_consumption_2</th>\n",
       "      <th>user_is_occupied</th>\n",
       "      <th>user_geography</th>\n",
       "      <th>user_intentions</th>\n",
       "      <th>user_brands</th>\n",
       "      <th>user_categories</th>\n",
       "    </tr>\n",
       "  </thead>\n",
       "  <tbody>\n",
       "    <tr>\n",
       "      <th>0</th>\n",
       "      <td>12</td>\n",
       "      <td>12</td>\n",
       "      <td>2</td>\n",
       "      <td>1</td>\n",
       "      <td>1</td>\n",
       "      <td>1</td>\n",
       "      <td>1</td>\n",
       "      <td>1</td>\n",
       "      <td>1</td>\n",
       "      <td>12</td>\n",
       "      <td>12</td>\n",
       "      <td>12</td>\n",
       "    </tr>\n",
       "    <tr>\n",
       "      <th>1</th>\n",
       "      <td>147</td>\n",
       "      <td>147</td>\n",
       "      <td>15</td>\n",
       "      <td>2</td>\n",
       "      <td>1</td>\n",
       "      <td>1</td>\n",
       "      <td>1</td>\n",
       "      <td>1</td>\n",
       "      <td>1</td>\n",
       "      <td>147</td>\n",
       "      <td>147</td>\n",
       "      <td>147</td>\n",
       "    </tr>\n",
       "    <tr>\n",
       "      <th>2</th>\n",
       "      <td>65</td>\n",
       "      <td>65</td>\n",
       "      <td>6</td>\n",
       "      <td>1</td>\n",
       "      <td>1</td>\n",
       "      <td>1</td>\n",
       "      <td>1</td>\n",
       "      <td>1</td>\n",
       "      <td>1</td>\n",
       "      <td>65</td>\n",
       "      <td>65</td>\n",
       "      <td>65</td>\n",
       "    </tr>\n",
       "    <tr>\n",
       "      <th>3</th>\n",
       "      <td>18</td>\n",
       "      <td>18</td>\n",
       "      <td>2</td>\n",
       "      <td>1</td>\n",
       "      <td>1</td>\n",
       "      <td>1</td>\n",
       "      <td>1</td>\n",
       "      <td>1</td>\n",
       "      <td>1</td>\n",
       "      <td>18</td>\n",
       "      <td>18</td>\n",
       "      <td>18</td>\n",
       "    </tr>\n",
       "    <tr>\n",
       "      <th>4</th>\n",
       "      <td>27</td>\n",
       "      <td>27</td>\n",
       "      <td>4</td>\n",
       "      <td>1</td>\n",
       "      <td>1</td>\n",
       "      <td>1</td>\n",
       "      <td>1</td>\n",
       "      <td>1</td>\n",
       "      <td>1</td>\n",
       "      <td>27</td>\n",
       "      <td>27</td>\n",
       "      <td>27</td>\n",
       "    </tr>\n",
       "  </tbody>\n",
       "</table>\n",
       "</div>"
      ],
      "text/plain": [
       "   user_id  user_shops  user_profile  user_group  user_gender  user_age  \\\n",
       "0       12          12             2           1            1         1   \n",
       "1      147         147            15           2            1         1   \n",
       "2       65          65             6           1            1         1   \n",
       "3       18          18             2           1            1         1   \n",
       "4       27          27             4           1            1         1   \n",
       "\n",
       "   user_consumption_2  user_is_occupied  user_geography  user_intentions  \\\n",
       "0                   1                 1               1               12   \n",
       "1                   1                 1               1              147   \n",
       "2                   1                 1               1               65   \n",
       "3                   1                 1               1               18   \n",
       "4                   1                 1               1               27   \n",
       "\n",
       "   user_brands  user_categories  \n",
       "0           12               12  \n",
       "1          147              147  \n",
       "2           65               65  \n",
       "3           18               18  \n",
       "4           27               27  "
      ]
     },
     "execution_count": 138,
     "metadata": {},
     "output_type": "execute_result"
    }
   ],
   "source": [
    "user_features.head()"
   ]
  },
  {
   "cell_type": "code",
   "execution_count": 139,
   "id": "651b6ed6",
   "metadata": {},
   "outputs": [
    {
     "data": {
      "text/plain": [
       "(244, 12)"
      ]
     },
     "execution_count": 139,
     "metadata": {},
     "output_type": "execute_result"
    }
   ],
   "source": [
    "user_features.shape"
   ]
  },
  {
   "cell_type": "code",
   "execution_count": 140,
   "id": "bcb7e141",
   "metadata": {},
   "outputs": [],
   "source": [
    "# save to disk\n",
    "user_features.to_parquet(os.path.join(DATA_FOLDER, \"user_features.parquet\"))"
   ]
  },
  {
   "cell_type": "markdown",
   "id": "3c70b1ad",
   "metadata": {},
   "source": [
    "### Extract and save Item features"
   ]
  },
  {
   "cell_type": "code",
   "execution_count": 141,
   "id": "f524e345",
   "metadata": {},
   "outputs": [
    {
     "name": "stderr",
     "output_type": "stream",
     "text": [
      "C:\\Users\\Sushanth S\\Class Lectures\\Internshp_SFC\\models-main\\merlin\\io\\dataset.py:256: UserWarning: Initializing an NVTabular Dataset in CPU mode.This is an experimental feature with extremely limited support!\n",
      "  warnings.warn(\n"
     ]
    }
   ],
   "source": [
    "item_features = (\n",
    "    unique_rows_by_features(train, Tags.ITEM, Tags.ITEM_ID).compute().reset_index(drop=True)\n",
    ")"
   ]
  },
  {
   "cell_type": "code",
   "execution_count": 142,
   "id": "f1045db9",
   "metadata": {},
   "outputs": [
    {
     "data": {
      "text/html": [
       "<div>\n",
       "<style scoped>\n",
       "    .dataframe tbody tr th:only-of-type {\n",
       "        vertical-align: middle;\n",
       "    }\n",
       "\n",
       "    .dataframe tbody tr th {\n",
       "        vertical-align: top;\n",
       "    }\n",
       "\n",
       "    .dataframe thead th {\n",
       "        text-align: right;\n",
       "    }\n",
       "</style>\n",
       "<table border=\"1\" class=\"dataframe\">\n",
       "  <thead>\n",
       "    <tr style=\"text-align: right;\">\n",
       "      <th></th>\n",
       "      <th>item_id</th>\n",
       "      <th>item_category</th>\n",
       "      <th>item_shop</th>\n",
       "      <th>item_brand</th>\n",
       "    </tr>\n",
       "  </thead>\n",
       "  <tbody>\n",
       "    <tr>\n",
       "      <th>0</th>\n",
       "      <td>24</td>\n",
       "      <td>24</td>\n",
       "      <td>24</td>\n",
       "      <td>24</td>\n",
       "    </tr>\n",
       "    <tr>\n",
       "      <th>1</th>\n",
       "      <td>44</td>\n",
       "      <td>44</td>\n",
       "      <td>44</td>\n",
       "      <td>44</td>\n",
       "    </tr>\n",
       "    <tr>\n",
       "      <th>2</th>\n",
       "      <td>3</td>\n",
       "      <td>3</td>\n",
       "      <td>3</td>\n",
       "      <td>3</td>\n",
       "    </tr>\n",
       "    <tr>\n",
       "      <th>3</th>\n",
       "      <td>14</td>\n",
       "      <td>14</td>\n",
       "      <td>14</td>\n",
       "      <td>14</td>\n",
       "    </tr>\n",
       "    <tr>\n",
       "      <th>4</th>\n",
       "      <td>55</td>\n",
       "      <td>55</td>\n",
       "      <td>55</td>\n",
       "      <td>55</td>\n",
       "    </tr>\n",
       "  </tbody>\n",
       "</table>\n",
       "</div>"
      ],
      "text/plain": [
       "   item_id  item_category  item_shop  item_brand\n",
       "0       24             24         24          24\n",
       "1       44             44         44          44\n",
       "2        3              3          3           3\n",
       "3       14             14         14          14\n",
       "4       55             55         55          55"
      ]
     },
     "execution_count": 142,
     "metadata": {},
     "output_type": "execute_result"
    }
   ],
   "source": [
    "item_features.head()"
   ]
  },
  {
   "cell_type": "code",
   "execution_count": 143,
   "id": "f9051679",
   "metadata": {},
   "outputs": [],
   "source": [
    "# save to disk\n",
    "item_features.to_parquet(os.path.join(DATA_FOLDER, \"item_features.parquet\"))"
   ]
  },
  {
   "cell_type": "markdown",
   "id": "ebf28061",
   "metadata": {},
   "source": [
    "## Extract and save Item embeddings"
   ]
  },
  {
   "cell_type": "code",
   "execution_count": 144,
   "id": "15178163",
   "metadata": {},
   "outputs": [
    {
     "name": "stderr",
     "output_type": "stream",
     "text": [
      "C:\\Users\\Sushanth S\\Class Lectures\\Internshp_SFC\\models-main\\merlin\\io\\dataset.py:256: UserWarning: Initializing an NVTabular Dataset in CPU mode.This is an experimental feature with extremely limited support!\n",
      "  warnings.warn(\n",
      "WARNING:absl:Found untraced functions such as model_context_3_layer_call_fn, model_context_3_layer_call_and_return_conditional_losses, parallel_block_layer_call_fn, parallel_block_layer_call_and_return_conditional_losses, sequential_block_18_layer_call_fn while saving (showing 5 of 54). These functions will not be directly callable after loading.\n"
     ]
    },
    {
     "name": "stdout",
     "output_type": "stream",
     "text": [
      "INFO:tensorflow:Assets written to: C:\\Users\\SUSHAN~1\\AppData\\Local\\Temp\\tmpvk96pg3l\\assets\n"
     ]
    },
    {
     "name": "stderr",
     "output_type": "stream",
     "text": [
      "INFO:tensorflow:Assets written to: C:\\Users\\SUSHAN~1\\AppData\\Local\\Temp\\tmpvk96pg3l\\assets\n",
      "C:\\Users\\Sushanth S\\Class Lectures\\Internshp_SFC\\models-main\\merlin\\io\\dataset.py:256: UserWarning: Initializing an NVTabular Dataset in CPU mode.This is an experimental feature with extremely limited support!\n",
      "  warnings.warn(\n",
      "C:\\Users\\Sushanth S\\Class Lectures\\Internshp_SFC\\models-main\\merlin\\schema\\tags.py:148: UserWarning: Compound tags like Tags.ITEM_ID have been deprecated and will be removed in a future version. Please use the atomic versions of these tags, like [<Tags.ITEM: 'item'>, <Tags.ID: 'id'>].\n",
      "  warnings.warn(\n"
     ]
    },
    {
     "name": "stdout",
     "output_type": "stream",
     "text": [
      "WARNING:tensorflow:No training configuration found in save file, so the model was *not* compiled. Compile it manually.\n"
     ]
    },
    {
     "name": "stderr",
     "output_type": "stream",
     "text": [
      "WARNING:tensorflow:No training configuration found in save file, so the model was *not* compiled. Compile it manually.\n",
      "C:\\Users\\Sushanth S\\Class Lectures\\Internshp_SFC\\models-main\\merlin\\io\\dataset.py:256: UserWarning: Initializing an NVTabular Dataset in CPU mode.This is an experimental feature with extremely limited support!\n",
      "  warnings.warn(\n"
     ]
    }
   ],
   "source": [
    "item_embs = model.item_embeddings(Dataset(item_features, schema=schema), batch_size=1024)\n",
    "item_embs_df = item_embs.compute(scheduler=\"synchronous\")"
   ]
  },
  {
   "cell_type": "code",
   "execution_count": 145,
   "id": "b3d5be0c",
   "metadata": {},
   "outputs": [
    {
     "data": {
      "text/html": [
       "<div>\n",
       "<style scoped>\n",
       "    .dataframe tbody tr th:only-of-type {\n",
       "        vertical-align: middle;\n",
       "    }\n",
       "\n",
       "    .dataframe tbody tr th {\n",
       "        vertical-align: top;\n",
       "    }\n",
       "\n",
       "    .dataframe thead th {\n",
       "        text-align: right;\n",
       "    }\n",
       "</style>\n",
       "<table border=\"1\" class=\"dataframe\">\n",
       "  <thead>\n",
       "    <tr style=\"text-align: right;\">\n",
       "      <th></th>\n",
       "      <th>item_id</th>\n",
       "      <th>item_category</th>\n",
       "      <th>item_shop</th>\n",
       "      <th>item_brand</th>\n",
       "      <th>0</th>\n",
       "      <th>1</th>\n",
       "      <th>2</th>\n",
       "      <th>3</th>\n",
       "      <th>4</th>\n",
       "      <th>5</th>\n",
       "      <th>...</th>\n",
       "      <th>54</th>\n",
       "      <th>55</th>\n",
       "      <th>56</th>\n",
       "      <th>57</th>\n",
       "      <th>58</th>\n",
       "      <th>59</th>\n",
       "      <th>60</th>\n",
       "      <th>61</th>\n",
       "      <th>62</th>\n",
       "      <th>63</th>\n",
       "    </tr>\n",
       "  </thead>\n",
       "  <tbody>\n",
       "    <tr>\n",
       "      <th>0</th>\n",
       "      <td>24</td>\n",
       "      <td>24</td>\n",
       "      <td>24</td>\n",
       "      <td>24</td>\n",
       "      <td>-0.012888</td>\n",
       "      <td>0.009055</td>\n",
       "      <td>-0.025922</td>\n",
       "      <td>-0.015115</td>\n",
       "      <td>0.062901</td>\n",
       "      <td>-0.011260</td>\n",
       "      <td>...</td>\n",
       "      <td>-0.022625</td>\n",
       "      <td>-0.036717</td>\n",
       "      <td>-0.085791</td>\n",
       "      <td>-0.012863</td>\n",
       "      <td>-0.024853</td>\n",
       "      <td>-0.001400</td>\n",
       "      <td>-0.039401</td>\n",
       "      <td>0.072047</td>\n",
       "      <td>-0.025377</td>\n",
       "      <td>0.018310</td>\n",
       "    </tr>\n",
       "    <tr>\n",
       "      <th>1</th>\n",
       "      <td>44</td>\n",
       "      <td>44</td>\n",
       "      <td>44</td>\n",
       "      <td>44</td>\n",
       "      <td>-0.014731</td>\n",
       "      <td>-0.024999</td>\n",
       "      <td>-0.031419</td>\n",
       "      <td>-0.003753</td>\n",
       "      <td>0.063261</td>\n",
       "      <td>-0.028368</td>\n",
       "      <td>...</td>\n",
       "      <td>-0.004610</td>\n",
       "      <td>-0.002892</td>\n",
       "      <td>-0.044402</td>\n",
       "      <td>-0.007952</td>\n",
       "      <td>0.008067</td>\n",
       "      <td>-0.028471</td>\n",
       "      <td>-0.017631</td>\n",
       "      <td>0.066092</td>\n",
       "      <td>0.004579</td>\n",
       "      <td>-0.037046</td>\n",
       "    </tr>\n",
       "    <tr>\n",
       "      <th>2</th>\n",
       "      <td>3</td>\n",
       "      <td>3</td>\n",
       "      <td>3</td>\n",
       "      <td>3</td>\n",
       "      <td>0.011768</td>\n",
       "      <td>-0.016261</td>\n",
       "      <td>-0.012817</td>\n",
       "      <td>0.005632</td>\n",
       "      <td>0.065218</td>\n",
       "      <td>0.027383</td>\n",
       "      <td>...</td>\n",
       "      <td>0.046264</td>\n",
       "      <td>-0.032614</td>\n",
       "      <td>-0.005159</td>\n",
       "      <td>0.018801</td>\n",
       "      <td>-0.012215</td>\n",
       "      <td>-0.012261</td>\n",
       "      <td>-0.049397</td>\n",
       "      <td>-0.042100</td>\n",
       "      <td>0.040520</td>\n",
       "      <td>0.008564</td>\n",
       "    </tr>\n",
       "    <tr>\n",
       "      <th>3</th>\n",
       "      <td>14</td>\n",
       "      <td>14</td>\n",
       "      <td>14</td>\n",
       "      <td>14</td>\n",
       "      <td>0.035868</td>\n",
       "      <td>-0.013477</td>\n",
       "      <td>0.006211</td>\n",
       "      <td>-0.015456</td>\n",
       "      <td>0.068264</td>\n",
       "      <td>0.021817</td>\n",
       "      <td>...</td>\n",
       "      <td>0.029014</td>\n",
       "      <td>-0.034274</td>\n",
       "      <td>-0.023193</td>\n",
       "      <td>0.016562</td>\n",
       "      <td>-0.004868</td>\n",
       "      <td>0.002371</td>\n",
       "      <td>-0.017949</td>\n",
       "      <td>0.010471</td>\n",
       "      <td>0.021373</td>\n",
       "      <td>-0.008561</td>\n",
       "    </tr>\n",
       "    <tr>\n",
       "      <th>4</th>\n",
       "      <td>55</td>\n",
       "      <td>55</td>\n",
       "      <td>55</td>\n",
       "      <td>55</td>\n",
       "      <td>0.041775</td>\n",
       "      <td>-0.014103</td>\n",
       "      <td>0.002613</td>\n",
       "      <td>-0.031636</td>\n",
       "      <td>0.039474</td>\n",
       "      <td>0.012734</td>\n",
       "      <td>...</td>\n",
       "      <td>-0.040387</td>\n",
       "      <td>-0.004852</td>\n",
       "      <td>0.049427</td>\n",
       "      <td>0.012824</td>\n",
       "      <td>0.028730</td>\n",
       "      <td>0.008218</td>\n",
       "      <td>-0.034498</td>\n",
       "      <td>0.012171</td>\n",
       "      <td>0.038680</td>\n",
       "      <td>-0.040525</td>\n",
       "    </tr>\n",
       "    <tr>\n",
       "      <th>...</th>\n",
       "      <td>...</td>\n",
       "      <td>...</td>\n",
       "      <td>...</td>\n",
       "      <td>...</td>\n",
       "      <td>...</td>\n",
       "      <td>...</td>\n",
       "      <td>...</td>\n",
       "      <td>...</td>\n",
       "      <td>...</td>\n",
       "      <td>...</td>\n",
       "      <td>...</td>\n",
       "      <td>...</td>\n",
       "      <td>...</td>\n",
       "      <td>...</td>\n",
       "      <td>...</td>\n",
       "      <td>...</td>\n",
       "      <td>...</td>\n",
       "      <td>...</td>\n",
       "      <td>...</td>\n",
       "      <td>...</td>\n",
       "      <td>...</td>\n",
       "    </tr>\n",
       "    <tr>\n",
       "      <th>245</th>\n",
       "      <td>187</td>\n",
       "      <td>187</td>\n",
       "      <td>187</td>\n",
       "      <td>187</td>\n",
       "      <td>-0.030836</td>\n",
       "      <td>0.002151</td>\n",
       "      <td>-0.044478</td>\n",
       "      <td>-0.016550</td>\n",
       "      <td>0.054961</td>\n",
       "      <td>-0.019263</td>\n",
       "      <td>...</td>\n",
       "      <td>-0.012203</td>\n",
       "      <td>-0.016994</td>\n",
       "      <td>-0.041953</td>\n",
       "      <td>0.018262</td>\n",
       "      <td>-0.012628</td>\n",
       "      <td>-0.008772</td>\n",
       "      <td>-0.051687</td>\n",
       "      <td>0.026397</td>\n",
       "      <td>0.007453</td>\n",
       "      <td>0.020092</td>\n",
       "    </tr>\n",
       "    <tr>\n",
       "      <th>246</th>\n",
       "      <td>213</td>\n",
       "      <td>213</td>\n",
       "      <td>213</td>\n",
       "      <td>213</td>\n",
       "      <td>-0.026004</td>\n",
       "      <td>-0.009588</td>\n",
       "      <td>-0.042637</td>\n",
       "      <td>0.002774</td>\n",
       "      <td>0.049410</td>\n",
       "      <td>-0.015987</td>\n",
       "      <td>...</td>\n",
       "      <td>-0.003592</td>\n",
       "      <td>-0.004975</td>\n",
       "      <td>-0.052216</td>\n",
       "      <td>0.005384</td>\n",
       "      <td>-0.030052</td>\n",
       "      <td>-0.012004</td>\n",
       "      <td>-0.047306</td>\n",
       "      <td>0.009022</td>\n",
       "      <td>-0.005098</td>\n",
       "      <td>0.010022</td>\n",
       "    </tr>\n",
       "    <tr>\n",
       "      <th>247</th>\n",
       "      <td>215</td>\n",
       "      <td>215</td>\n",
       "      <td>215</td>\n",
       "      <td>215</td>\n",
       "      <td>0.009735</td>\n",
       "      <td>-0.023979</td>\n",
       "      <td>-0.011635</td>\n",
       "      <td>-0.018187</td>\n",
       "      <td>0.018776</td>\n",
       "      <td>-0.009580</td>\n",
       "      <td>...</td>\n",
       "      <td>-0.023086</td>\n",
       "      <td>-0.012602</td>\n",
       "      <td>0.025051</td>\n",
       "      <td>0.012493</td>\n",
       "      <td>0.003039</td>\n",
       "      <td>-0.009732</td>\n",
       "      <td>-0.005550</td>\n",
       "      <td>0.001786</td>\n",
       "      <td>0.033608</td>\n",
       "      <td>-0.018926</td>\n",
       "    </tr>\n",
       "    <tr>\n",
       "      <th>248</th>\n",
       "      <td>188</td>\n",
       "      <td>188</td>\n",
       "      <td>188</td>\n",
       "      <td>188</td>\n",
       "      <td>0.002937</td>\n",
       "      <td>0.003260</td>\n",
       "      <td>-0.022704</td>\n",
       "      <td>-0.017590</td>\n",
       "      <td>0.034912</td>\n",
       "      <td>0.000850</td>\n",
       "      <td>...</td>\n",
       "      <td>0.018118</td>\n",
       "      <td>-0.007686</td>\n",
       "      <td>-0.058207</td>\n",
       "      <td>0.002821</td>\n",
       "      <td>-0.016252</td>\n",
       "      <td>0.008872</td>\n",
       "      <td>-0.031774</td>\n",
       "      <td>0.023321</td>\n",
       "      <td>-0.010170</td>\n",
       "      <td>0.006971</td>\n",
       "    </tr>\n",
       "    <tr>\n",
       "      <th>249</th>\n",
       "      <td>196</td>\n",
       "      <td>196</td>\n",
       "      <td>196</td>\n",
       "      <td>196</td>\n",
       "      <td>0.006745</td>\n",
       "      <td>-0.008304</td>\n",
       "      <td>0.015259</td>\n",
       "      <td>-0.001422</td>\n",
       "      <td>0.025259</td>\n",
       "      <td>-0.025429</td>\n",
       "      <td>...</td>\n",
       "      <td>0.008626</td>\n",
       "      <td>0.009119</td>\n",
       "      <td>-0.009311</td>\n",
       "      <td>0.010415</td>\n",
       "      <td>0.002139</td>\n",
       "      <td>0.011409</td>\n",
       "      <td>-0.018822</td>\n",
       "      <td>0.022595</td>\n",
       "      <td>-0.007838</td>\n",
       "      <td>-0.013760</td>\n",
       "    </tr>\n",
       "  </tbody>\n",
       "</table>\n",
       "<p>250 rows × 68 columns</p>\n",
       "</div>"
      ],
      "text/plain": [
       "     item_id  item_category  item_shop  item_brand         0         1  \\\n",
       "0         24             24         24          24 -0.012888  0.009055   \n",
       "1         44             44         44          44 -0.014731 -0.024999   \n",
       "2          3              3          3           3  0.011768 -0.016261   \n",
       "3         14             14         14          14  0.035868 -0.013477   \n",
       "4         55             55         55          55  0.041775 -0.014103   \n",
       "..       ...            ...        ...         ...       ...       ...   \n",
       "245      187            187        187         187 -0.030836  0.002151   \n",
       "246      213            213        213         213 -0.026004 -0.009588   \n",
       "247      215            215        215         215  0.009735 -0.023979   \n",
       "248      188            188        188         188  0.002937  0.003260   \n",
       "249      196            196        196         196  0.006745 -0.008304   \n",
       "\n",
       "            2         3         4         5  ...        54        55  \\\n",
       "0   -0.025922 -0.015115  0.062901 -0.011260  ... -0.022625 -0.036717   \n",
       "1   -0.031419 -0.003753  0.063261 -0.028368  ... -0.004610 -0.002892   \n",
       "2   -0.012817  0.005632  0.065218  0.027383  ...  0.046264 -0.032614   \n",
       "3    0.006211 -0.015456  0.068264  0.021817  ...  0.029014 -0.034274   \n",
       "4    0.002613 -0.031636  0.039474  0.012734  ... -0.040387 -0.004852   \n",
       "..        ...       ...       ...       ...  ...       ...       ...   \n",
       "245 -0.044478 -0.016550  0.054961 -0.019263  ... -0.012203 -0.016994   \n",
       "246 -0.042637  0.002774  0.049410 -0.015987  ... -0.003592 -0.004975   \n",
       "247 -0.011635 -0.018187  0.018776 -0.009580  ... -0.023086 -0.012602   \n",
       "248 -0.022704 -0.017590  0.034912  0.000850  ...  0.018118 -0.007686   \n",
       "249  0.015259 -0.001422  0.025259 -0.025429  ...  0.008626  0.009119   \n",
       "\n",
       "           56        57        58        59        60        61        62  \\\n",
       "0   -0.085791 -0.012863 -0.024853 -0.001400 -0.039401  0.072047 -0.025377   \n",
       "1   -0.044402 -0.007952  0.008067 -0.028471 -0.017631  0.066092  0.004579   \n",
       "2   -0.005159  0.018801 -0.012215 -0.012261 -0.049397 -0.042100  0.040520   \n",
       "3   -0.023193  0.016562 -0.004868  0.002371 -0.017949  0.010471  0.021373   \n",
       "4    0.049427  0.012824  0.028730  0.008218 -0.034498  0.012171  0.038680   \n",
       "..        ...       ...       ...       ...       ...       ...       ...   \n",
       "245 -0.041953  0.018262 -0.012628 -0.008772 -0.051687  0.026397  0.007453   \n",
       "246 -0.052216  0.005384 -0.030052 -0.012004 -0.047306  0.009022 -0.005098   \n",
       "247  0.025051  0.012493  0.003039 -0.009732 -0.005550  0.001786  0.033608   \n",
       "248 -0.058207  0.002821 -0.016252  0.008872 -0.031774  0.023321 -0.010170   \n",
       "249 -0.009311  0.010415  0.002139  0.011409 -0.018822  0.022595 -0.007838   \n",
       "\n",
       "           63  \n",
       "0    0.018310  \n",
       "1   -0.037046  \n",
       "2    0.008564  \n",
       "3   -0.008561  \n",
       "4   -0.040525  \n",
       "..        ...  \n",
       "245  0.020092  \n",
       "246  0.010022  \n",
       "247 -0.018926  \n",
       "248  0.006971  \n",
       "249 -0.013760  \n",
       "\n",
       "[250 rows x 68 columns]"
      ]
     },
     "execution_count": 145,
     "metadata": {},
     "output_type": "execute_result"
    }
   ],
   "source": [
    "item_embs_df"
   ]
  },
  {
   "cell_type": "code",
   "execution_count": 146,
   "id": "bb30b31c",
   "metadata": {},
   "outputs": [],
   "source": [
    "# select only embedding columns\n",
    "item_embeddings = item_embs_df.iloc[:, 4:]"
   ]
  },
  {
   "cell_type": "code",
   "execution_count": 147,
   "id": "b2fa2391",
   "metadata": {},
   "outputs": [
    {
     "data": {
      "text/html": [
       "<div>\n",
       "<style scoped>\n",
       "    .dataframe tbody tr th:only-of-type {\n",
       "        vertical-align: middle;\n",
       "    }\n",
       "\n",
       "    .dataframe tbody tr th {\n",
       "        vertical-align: top;\n",
       "    }\n",
       "\n",
       "    .dataframe thead th {\n",
       "        text-align: right;\n",
       "    }\n",
       "</style>\n",
       "<table border=\"1\" class=\"dataframe\">\n",
       "  <thead>\n",
       "    <tr style=\"text-align: right;\">\n",
       "      <th></th>\n",
       "      <th>0</th>\n",
       "      <th>1</th>\n",
       "      <th>2</th>\n",
       "      <th>3</th>\n",
       "      <th>4</th>\n",
       "      <th>5</th>\n",
       "      <th>6</th>\n",
       "      <th>7</th>\n",
       "      <th>8</th>\n",
       "      <th>9</th>\n",
       "      <th>...</th>\n",
       "      <th>54</th>\n",
       "      <th>55</th>\n",
       "      <th>56</th>\n",
       "      <th>57</th>\n",
       "      <th>58</th>\n",
       "      <th>59</th>\n",
       "      <th>60</th>\n",
       "      <th>61</th>\n",
       "      <th>62</th>\n",
       "      <th>63</th>\n",
       "    </tr>\n",
       "  </thead>\n",
       "  <tbody>\n",
       "    <tr>\n",
       "      <th>0</th>\n",
       "      <td>-0.012888</td>\n",
       "      <td>0.009055</td>\n",
       "      <td>-0.025922</td>\n",
       "      <td>-0.015115</td>\n",
       "      <td>0.062901</td>\n",
       "      <td>-0.011260</td>\n",
       "      <td>-0.005929</td>\n",
       "      <td>0.034844</td>\n",
       "      <td>-0.053957</td>\n",
       "      <td>0.006927</td>\n",
       "      <td>...</td>\n",
       "      <td>-0.022625</td>\n",
       "      <td>-0.036717</td>\n",
       "      <td>-0.085791</td>\n",
       "      <td>-0.012863</td>\n",
       "      <td>-0.024853</td>\n",
       "      <td>-0.001400</td>\n",
       "      <td>-0.039401</td>\n",
       "      <td>0.072047</td>\n",
       "      <td>-0.025377</td>\n",
       "      <td>0.018310</td>\n",
       "    </tr>\n",
       "    <tr>\n",
       "      <th>1</th>\n",
       "      <td>-0.014731</td>\n",
       "      <td>-0.024999</td>\n",
       "      <td>-0.031419</td>\n",
       "      <td>-0.003753</td>\n",
       "      <td>0.063261</td>\n",
       "      <td>-0.028368</td>\n",
       "      <td>-0.044784</td>\n",
       "      <td>0.053463</td>\n",
       "      <td>-0.064751</td>\n",
       "      <td>0.023340</td>\n",
       "      <td>...</td>\n",
       "      <td>-0.004610</td>\n",
       "      <td>-0.002892</td>\n",
       "      <td>-0.044402</td>\n",
       "      <td>-0.007952</td>\n",
       "      <td>0.008067</td>\n",
       "      <td>-0.028471</td>\n",
       "      <td>-0.017631</td>\n",
       "      <td>0.066092</td>\n",
       "      <td>0.004579</td>\n",
       "      <td>-0.037046</td>\n",
       "    </tr>\n",
       "    <tr>\n",
       "      <th>2</th>\n",
       "      <td>0.011768</td>\n",
       "      <td>-0.016261</td>\n",
       "      <td>-0.012817</td>\n",
       "      <td>0.005632</td>\n",
       "      <td>0.065218</td>\n",
       "      <td>0.027383</td>\n",
       "      <td>-0.001294</td>\n",
       "      <td>-0.033072</td>\n",
       "      <td>-0.014933</td>\n",
       "      <td>0.027854</td>\n",
       "      <td>...</td>\n",
       "      <td>0.046264</td>\n",
       "      <td>-0.032614</td>\n",
       "      <td>-0.005159</td>\n",
       "      <td>0.018801</td>\n",
       "      <td>-0.012215</td>\n",
       "      <td>-0.012261</td>\n",
       "      <td>-0.049397</td>\n",
       "      <td>-0.042100</td>\n",
       "      <td>0.040520</td>\n",
       "      <td>0.008564</td>\n",
       "    </tr>\n",
       "    <tr>\n",
       "      <th>3</th>\n",
       "      <td>0.035868</td>\n",
       "      <td>-0.013477</td>\n",
       "      <td>0.006211</td>\n",
       "      <td>-0.015456</td>\n",
       "      <td>0.068264</td>\n",
       "      <td>0.021817</td>\n",
       "      <td>-0.009076</td>\n",
       "      <td>-0.001802</td>\n",
       "      <td>-0.026894</td>\n",
       "      <td>-0.003130</td>\n",
       "      <td>...</td>\n",
       "      <td>0.029014</td>\n",
       "      <td>-0.034274</td>\n",
       "      <td>-0.023193</td>\n",
       "      <td>0.016562</td>\n",
       "      <td>-0.004868</td>\n",
       "      <td>0.002371</td>\n",
       "      <td>-0.017949</td>\n",
       "      <td>0.010471</td>\n",
       "      <td>0.021373</td>\n",
       "      <td>-0.008561</td>\n",
       "    </tr>\n",
       "    <tr>\n",
       "      <th>4</th>\n",
       "      <td>0.041775</td>\n",
       "      <td>-0.014103</td>\n",
       "      <td>0.002613</td>\n",
       "      <td>-0.031636</td>\n",
       "      <td>0.039474</td>\n",
       "      <td>0.012734</td>\n",
       "      <td>-0.008218</td>\n",
       "      <td>0.038010</td>\n",
       "      <td>-0.046995</td>\n",
       "      <td>-0.007597</td>\n",
       "      <td>...</td>\n",
       "      <td>-0.040387</td>\n",
       "      <td>-0.004852</td>\n",
       "      <td>0.049427</td>\n",
       "      <td>0.012824</td>\n",
       "      <td>0.028730</td>\n",
       "      <td>0.008218</td>\n",
       "      <td>-0.034498</td>\n",
       "      <td>0.012171</td>\n",
       "      <td>0.038680</td>\n",
       "      <td>-0.040525</td>\n",
       "    </tr>\n",
       "  </tbody>\n",
       "</table>\n",
       "<p>5 rows × 64 columns</p>\n",
       "</div>"
      ],
      "text/plain": [
       "          0         1         2         3         4         5         6  \\\n",
       "0 -0.012888  0.009055 -0.025922 -0.015115  0.062901 -0.011260 -0.005929   \n",
       "1 -0.014731 -0.024999 -0.031419 -0.003753  0.063261 -0.028368 -0.044784   \n",
       "2  0.011768 -0.016261 -0.012817  0.005632  0.065218  0.027383 -0.001294   \n",
       "3  0.035868 -0.013477  0.006211 -0.015456  0.068264  0.021817 -0.009076   \n",
       "4  0.041775 -0.014103  0.002613 -0.031636  0.039474  0.012734 -0.008218   \n",
       "\n",
       "          7         8         9  ...        54        55        56        57  \\\n",
       "0  0.034844 -0.053957  0.006927  ... -0.022625 -0.036717 -0.085791 -0.012863   \n",
       "1  0.053463 -0.064751  0.023340  ... -0.004610 -0.002892 -0.044402 -0.007952   \n",
       "2 -0.033072 -0.014933  0.027854  ...  0.046264 -0.032614 -0.005159  0.018801   \n",
       "3 -0.001802 -0.026894 -0.003130  ...  0.029014 -0.034274 -0.023193  0.016562   \n",
       "4  0.038010 -0.046995 -0.007597  ... -0.040387 -0.004852  0.049427  0.012824   \n",
       "\n",
       "         58        59        60        61        62        63  \n",
       "0 -0.024853 -0.001400 -0.039401  0.072047 -0.025377  0.018310  \n",
       "1  0.008067 -0.028471 -0.017631  0.066092  0.004579 -0.037046  \n",
       "2 -0.012215 -0.012261 -0.049397 -0.042100  0.040520  0.008564  \n",
       "3 -0.004868  0.002371 -0.017949  0.010471  0.021373 -0.008561  \n",
       "4  0.028730  0.008218 -0.034498  0.012171  0.038680 -0.040525  \n",
       "\n",
       "[5 rows x 64 columns]"
      ]
     },
     "execution_count": 147,
     "metadata": {},
     "output_type": "execute_result"
    }
   ],
   "source": [
    "item_embeddings.head()"
   ]
  },
  {
   "cell_type": "code",
   "execution_count": 148,
   "id": "10f88a52",
   "metadata": {},
   "outputs": [],
   "source": [
    "# save to disk\n",
    "item_embeddings.to_parquet(os.path.join(DATA_FOLDER, \"item_embeddings.parquet\"))"
   ]
  },
  {
   "cell_type": "markdown",
   "id": "0ae94248",
   "metadata": {},
   "source": [
    "That's it. You have learned how to train and evaluate your Two-Tower retrieval model, and then how to export the required components to be able to deploy this model to generate recommendations. In order to learn more on serving a model to Triton Inference Server, please explore the examples in the Merlin and Merlin Systems repos."
   ]
  },
  {
   "cell_type": "markdown",
   "id": "972ec7c7",
   "metadata": {},
   "source": [
    "https://github.com/triton-inference-server/server\n",
    "https://github.com/NVIDIA-Merlin/Merlin\n",
    "https://github.com/NVIDIA-Merlin/systems\n"
   ]
  },
  {
   "cell_type": "markdown",
   "id": "74cd12eb",
   "metadata": {},
   "source": [
    "# Model Evaluation"
   ]
  },
  {
   "cell_type": "code",
   "execution_count": 149,
   "id": "0f8ce415",
   "metadata": {},
   "outputs": [
    {
     "name": "stdout",
     "output_type": "stream",
     "text": [
      "3/3 [==============================] - 0s 26ms/step - loss: 6.8904 - recall_at_10: 0.0236 - ndcg_at_10: 0.0151 - regularization_loss: 0.0000e+00 - loss_batch: 6.8774\n"
     ]
    },
    {
     "data": {
      "text/plain": [
       "{'loss': 6.890393257141113,\n",
       " 'recall_at_10': 0.023000000044703484,\n",
       " 'ndcg_at_10': 0.014021489769220352,\n",
       " 'regularization_loss': 0.0,\n",
       " 'loss_batch': 6.8419189453125}"
      ]
     },
     "execution_count": 149,
     "metadata": {},
     "output_type": "execute_result"
    }
   ],
   "source": [
    "metrics = model.evaluate(valid, batch_size=1024, return_dict=True)\n",
    "metrics"
   ]
  },
  {
   "cell_type": "code",
   "execution_count": 151,
   "id": "8f6e9a4e",
   "metadata": {},
   "outputs": [
    {
     "data": {
      "text/plain": [
       "array([[ 0.01359068],\n",
       "       [-0.00483242],\n",
       "       [-0.00327853],\n",
       "       ...,\n",
       "       [ 0.01070507],\n",
       "       [-0.00160859],\n",
       "       [ 0.00153043]], dtype=float32)"
      ]
     },
     "execution_count": 151,
     "metadata": {},
     "output_type": "execute_result"
    }
   ],
   "source": [
    "model.predict(valid,batch_size=1024)"
   ]
  },
  {
   "cell_type": "code",
   "execution_count": 155,
   "id": "b6588dae",
   "metadata": {},
   "outputs": [
    {
     "data": {
      "text/html": [
       "<div>\n",
       "<style scoped>\n",
       "    .dataframe tbody tr th:only-of-type {\n",
       "        vertical-align: middle;\n",
       "    }\n",
       "\n",
       "    .dataframe tbody tr th {\n",
       "        vertical-align: top;\n",
       "    }\n",
       "\n",
       "    .dataframe thead th {\n",
       "        text-align: right;\n",
       "    }\n",
       "</style>\n",
       "<table border=\"1\" class=\"dataframe\">\n",
       "  <thead>\n",
       "    <tr style=\"text-align: right;\">\n",
       "      <th></th>\n",
       "      <th>user_id</th>\n",
       "      <th>item_id</th>\n",
       "      <th>item_category</th>\n",
       "      <th>item_shop</th>\n",
       "      <th>item_brand</th>\n",
       "      <th>user_shops</th>\n",
       "      <th>user_profile</th>\n",
       "      <th>user_group</th>\n",
       "      <th>user_gender</th>\n",
       "      <th>user_age</th>\n",
       "      <th>user_consumption_2</th>\n",
       "      <th>user_is_occupied</th>\n",
       "      <th>user_geography</th>\n",
       "      <th>user_intentions</th>\n",
       "      <th>user_brands</th>\n",
       "      <th>user_categories</th>\n",
       "      <th>click</th>\n",
       "    </tr>\n",
       "  </thead>\n",
       "  <tbody>\n",
       "    <tr>\n",
       "      <th>0</th>\n",
       "      <td>14</td>\n",
       "      <td>8</td>\n",
       "      <td>8</td>\n",
       "      <td>8</td>\n",
       "      <td>8</td>\n",
       "      <td>14</td>\n",
       "      <td>2</td>\n",
       "      <td>1</td>\n",
       "      <td>1</td>\n",
       "      <td>1</td>\n",
       "      <td>1</td>\n",
       "      <td>1</td>\n",
       "      <td>1</td>\n",
       "      <td>14</td>\n",
       "      <td>14</td>\n",
       "      <td>14</td>\n",
       "      <td>0</td>\n",
       "    </tr>\n",
       "    <tr>\n",
       "      <th>1</th>\n",
       "      <td>3</td>\n",
       "      <td>39</td>\n",
       "      <td>39</td>\n",
       "      <td>39</td>\n",
       "      <td>39</td>\n",
       "      <td>3</td>\n",
       "      <td>1</td>\n",
       "      <td>1</td>\n",
       "      <td>1</td>\n",
       "      <td>1</td>\n",
       "      <td>1</td>\n",
       "      <td>1</td>\n",
       "      <td>1</td>\n",
       "      <td>3</td>\n",
       "      <td>3</td>\n",
       "      <td>3</td>\n",
       "      <td>0</td>\n",
       "    </tr>\n",
       "    <tr>\n",
       "      <th>2</th>\n",
       "      <td>29</td>\n",
       "      <td>8</td>\n",
       "      <td>8</td>\n",
       "      <td>8</td>\n",
       "      <td>8</td>\n",
       "      <td>29</td>\n",
       "      <td>4</td>\n",
       "      <td>1</td>\n",
       "      <td>1</td>\n",
       "      <td>1</td>\n",
       "      <td>1</td>\n",
       "      <td>1</td>\n",
       "      <td>1</td>\n",
       "      <td>29</td>\n",
       "      <td>29</td>\n",
       "      <td>29</td>\n",
       "      <td>1</td>\n",
       "    </tr>\n",
       "    <tr>\n",
       "      <th>3</th>\n",
       "      <td>32</td>\n",
       "      <td>10</td>\n",
       "      <td>10</td>\n",
       "      <td>10</td>\n",
       "      <td>10</td>\n",
       "      <td>32</td>\n",
       "      <td>4</td>\n",
       "      <td>1</td>\n",
       "      <td>1</td>\n",
       "      <td>1</td>\n",
       "      <td>1</td>\n",
       "      <td>1</td>\n",
       "      <td>1</td>\n",
       "      <td>32</td>\n",
       "      <td>32</td>\n",
       "      <td>32</td>\n",
       "      <td>0</td>\n",
       "    </tr>\n",
       "    <tr>\n",
       "      <th>4</th>\n",
       "      <td>8</td>\n",
       "      <td>15</td>\n",
       "      <td>15</td>\n",
       "      <td>15</td>\n",
       "      <td>15</td>\n",
       "      <td>8</td>\n",
       "      <td>2</td>\n",
       "      <td>1</td>\n",
       "      <td>1</td>\n",
       "      <td>1</td>\n",
       "      <td>1</td>\n",
       "      <td>1</td>\n",
       "      <td>1</td>\n",
       "      <td>8</td>\n",
       "      <td>8</td>\n",
       "      <td>8</td>\n",
       "      <td>0</td>\n",
       "    </tr>\n",
       "  </tbody>\n",
       "</table>\n",
       "</div>"
      ],
      "text/plain": [
       "   user_id  item_id  item_category  item_shop  item_brand  user_shops  \\\n",
       "0       14        8              8          8           8          14   \n",
       "1        3       39             39         39          39           3   \n",
       "2       29        8              8          8           8          29   \n",
       "3       32       10             10         10          10          32   \n",
       "4        8       15             15         15          15           8   \n",
       "\n",
       "   user_profile  user_group  user_gender  user_age  user_consumption_2  \\\n",
       "0             2           1            1         1                   1   \n",
       "1             1           1            1         1                   1   \n",
       "2             4           1            1         1                   1   \n",
       "3             4           1            1         1                   1   \n",
       "4             2           1            1         1                   1   \n",
       "\n",
       "   user_is_occupied  user_geography  user_intentions  user_brands  \\\n",
       "0                 1               1               14           14   \n",
       "1                 1               1                3            3   \n",
       "2                 1               1               29           29   \n",
       "3                 1               1               32           32   \n",
       "4                 1               1                8            8   \n",
       "\n",
       "   user_categories  click  \n",
       "0               14      0  \n",
       "1                3      0  \n",
       "2               29      1  \n",
       "3               32      0  \n",
       "4                8      0  "
      ]
     },
     "execution_count": 155,
     "metadata": {},
     "output_type": "execute_result"
    }
   ],
   "source": [
    "valid.head()"
   ]
  },
  {
   "cell_type": "code",
   "execution_count": null,
   "id": "bf867f52",
   "metadata": {},
   "outputs": [],
   "source": [
    "#model.save(os.path.join(DATA_FOLDER, \"custom_dlrm\"))"
   ]
  },
  {
   "cell_type": "markdown",
   "id": "4993d4e1",
   "metadata": {},
   "source": [
    "# Exporting Ranking Models"
   ]
  },
  {
   "cell_type": "markdown",
   "id": "218216e4",
   "metadata": {},
   "source": [
    "This notebook is created using the latest stable merlin-tensorflow container.\n",
    "\n",
    "In this example notebook we demonstrate how to export (save) NVTabular workflow and a ranking model for model deployment with Merlin Systems library.\n",
    "\n",
    "Learning Objectives:\n",
    "\n",
    "Export NVTabular workflow for model deployment\n",
    "Export TensorFlow DLRM model for model deployment\n",
    "We will follow the steps below:\n",
    "\n",
    "Prepare the data with NVTabular and export NVTabular workflow\n",
    "Train a DLRM model with Merlin Models and export the trained model"
   ]
  },
  {
   "cell_type": "markdown",
   "id": "f9c99a4c",
   "metadata": {},
   "source": [
    "## Importing Libraries\n",
    "Let's start with importing the libraries that we'll use in this notebook."
   ]
  },
  {
   "cell_type": "code",
   "execution_count": 1,
   "id": "bbbfbebf",
   "metadata": {},
   "outputs": [
    {
     "name": "stdout",
     "output_type": "stream",
     "text": [
      "WARNING:tensorflow:Please fix your imports. Module tensorflow.python.training.tracking.data_structures has been moved to tensorflow.python.trackable.data_structures. The old module will be deleted in version 2.11.\n"
     ]
    }
   ],
   "source": [
    "import os\n",
    "\n",
    "import nvtabular as nvt\n",
    "from nvtabular.ops import *\n",
    "\n",
    "from merlin.models.utils.example_utils import workflow_fit_transform\n",
    "from merlin.schema.tags import Tags\n",
    "\n",
    "import merlin.models.tf as mm\n",
    "from merlin.io.dataset import Dataset\n",
    "import tensorflow as tf"
   ]
  },
  {
   "cell_type": "markdown",
   "id": "eb9964cd",
   "metadata": {},
   "source": [
    "After we execute fit() and transform() functions on the raw dataset applying the operators defined in the NVTabular workflow pipeline below, the processed parquet files are saved to output_path."
   ]
  },
  {
   "cell_type": "markdown",
   "id": "b279aed2",
   "metadata": {},
   "source": [
    "Feature Engineering with NVTabular\n",
    "We use the synthetic train and test datasets generated by mimicking the real Ali-CCP: Alibaba Click and Conversion Prediction dataset to build our recommender system ranking models.\n",
    "\n",
    "If you would like to use real Ali-CCP dataset instead, you can download the training and test datasets on tianchi.aliyun.com. You can then use get_aliccp() function to curate the raw csv files and save them as parquet files."
   ]
  },
  {
   "cell_type": "code",
   "execution_count": 14,
   "id": "7dcdb170",
   "metadata": {},
   "outputs": [
    {
     "name": "stderr",
     "output_type": "stream",
     "text": [
      "C:\\Users\\Sushanth S\\Class Lectures\\Internshp_SFC\\models-main\\merlin\\schema\\tags.py:148: UserWarning: Compound tags like Tags.USER_ID have been deprecated and will be removed in a future version. Please use the atomic versions of these tags, like [<Tags.USER: 'user'>, <Tags.ID: 'id'>].\n",
      "  warnings.warn(\n",
      "C:\\Users\\Sushanth S\\Class Lectures\\Internshp_SFC\\models-main\\merlin\\schema\\tags.py:148: UserWarning: Compound tags like Tags.ITEM_ID have been deprecated and will be removed in a future version. Please use the atomic versions of these tags, like [<Tags.ITEM: 'item'>, <Tags.ID: 'id'>].\n",
      "  warnings.warn(\n",
      "C:\\Users\\Sushanth S\\Class Lectures\\Internshp_SFC\\models-main\\merlin\\io\\dataset.py:256: UserWarning: Initializing an NVTabular Dataset in CPU mode.This is an experimental feature with extremely limited support!\n",
      "  warnings.warn(\n"
     ]
    }
   ],
   "source": [
    "from merlin.datasets.synthetic import generate_data\n",
    "\n",
    "DATA_FOLDER = os.environ.get(\"DATA_FOLDER\", \"workspace/data/\")\n",
    "NUM_ROWS = os.environ.get(\"NUM_ROWS\", 10000)\n",
    "SYNTHETIC_DATA = eval(os.environ.get(\"SYNTHETIC_DATA\", \"True\"))\n",
    "BATCH_SIZE = int(os.environ.get(\"BATCH_SIZE\", 512))\n",
    "\n",
    "if SYNTHETIC_DATA:\n",
    "    train, valid = generate_data(\"aliccp-raw\", int(NUM_ROWS), set_sizes=(0.7, 0.3))\n",
    "    # save the datasets as parquet files\n",
    "    train.to_ddf().to_parquet(os.path.join(DATA_FOLDER, \"train\"))\n",
    "    valid.to_ddf().to_parquet(os.path.join(DATA_FOLDER, \"valid\"))"
   ]
  },
  {
   "cell_type": "code",
   "execution_count": 15,
   "id": "1c04f7b6",
   "metadata": {},
   "outputs": [],
   "source": [
    "train_path = os.path.join(DATA_FOLDER, \"train\", \"*.parquet\")\n",
    "valid_path = os.path.join(DATA_FOLDER, \"valid\", \"*.parquet\")\n",
    "output_path = os.path.join(DATA_FOLDER, \"processed\")"
   ]
  },
  {
   "cell_type": "code",
   "execution_count": 26,
   "id": "9763efff",
   "metadata": {},
   "outputs": [
    {
     "name": "stderr",
     "output_type": "stream",
     "text": [
      "C:\\Users\\Sushanth S\\Class Lectures\\Internshp_SFC\\models-main\\merlin\\io\\dataset.py:256: UserWarning: Initializing an NVTabular Dataset in CPU mode.This is an experimental feature with extremely limited support!\n",
      "  warnings.warn(\n",
      "C:\\Users\\Sushanth S\\Class Lectures\\Internshp_SFC\\models-main\\merlin\\schema\\tags.py:148: UserWarning: Compound tags like Tags.USER_ID have been deprecated and will be removed in a future version. Please use the atomic versions of these tags, like [<Tags.USER: 'user'>, <Tags.ID: 'id'>].\n",
      "  warnings.warn(\n",
      "C:\\Users\\Sushanth S\\Class Lectures\\Internshp_SFC\\models-main\\merlin\\schema\\tags.py:148: UserWarning: Compound tags like Tags.ITEM_ID have been deprecated and will be removed in a future version. Please use the atomic versions of these tags, like [<Tags.ITEM: 'item'>, <Tags.ID: 'id'>].\n",
      "  warnings.warn(\n"
     ]
    },
    {
     "name": "stdout",
     "output_type": "stream",
     "text": [
      "Wall time: 1.36 s\n"
     ]
    }
   ],
   "source": [
    "%%time\n",
    "category_temp_directory = os.path.join(DATA_FOLDER, \"categories\")\n",
    "user_id = [\"user_id\"] >> Categorify(out_path=category_temp_directory) >> TagAsUserID()\n",
    "item_id = [\"item_id\"] >> Categorify(out_path=category_temp_directory) >> TagAsItemID()\n",
    "targets = [\"click\"] >> AddMetadata(tags=[Tags.BINARY_CLASSIFICATION, \"target\"])\n",
    "\n",
    "item_features = [\"item_category\", \"item_shop\", \"item_brand\"] >> Categorify(out_path=category_temp_directory) >> TagAsItemFeatures()\n",
    "\n",
    "user_features = (\n",
    "    [\n",
    "        \"user_shops\",\n",
    "        \"user_profile\",\n",
    "        \"user_group\",\n",
    "        \"user_gender\",\n",
    "        \"user_age\",\n",
    "        \"user_consumption_2\",\n",
    "        \"user_is_occupied\",\n",
    "        \"user_geography\",\n",
    "        \"user_intentions\",\n",
    "        \"user_brands\",\n",
    "        \"user_categories\",\n",
    "    ]\n",
    "    >> Categorify(out_path=category_temp_directory)\n",
    "    >> TagAsUserFeatures()\n",
    ")\n",
    "\n",
    "outputs = user_id + item_id + item_features + user_features + targets\n",
    "\n",
    "workflow = nvt.Workflow(outputs)\n",
    "\n",
    "train_dataset = nvt.Dataset(train_path)\n",
    "valid_dataset = nvt.Dataset(valid_path)\n",
    "\n",
    "workflow.fit(train_dataset)\n",
    "workflow.transform(train_dataset).to_parquet(output_path=output_path + \"/train/\")\n",
    "workflow.transform(valid_dataset).to_parquet(output_path=output_path + \"/valid/\")"
   ]
  },
  {
   "cell_type": "markdown",
   "id": "9fb70b7f",
   "metadata": {},
   "source": [
    "We save NVTabular workflow model in the current working directory."
   ]
  },
  {
   "cell_type": "code",
   "execution_count": 27,
   "id": "60d5133c",
   "metadata": {},
   "outputs": [],
   "source": [
    "workflow.save(os.path.join(DATA_FOLDER, \"workflow\"))"
   ]
  },
  {
   "cell_type": "markdown",
   "id": "0fb795ac",
   "metadata": {},
   "source": [
    "Let's check out our saved workflow model folder."
   ]
  },
  {
   "cell_type": "code",
   "execution_count": 28,
   "id": "c2ba1dfa",
   "metadata": {},
   "outputs": [],
   "source": [
    "#!pip install seedir"
   ]
  },
  {
   "cell_type": "code",
   "execution_count": 29,
   "id": "c302b6f1",
   "metadata": {},
   "outputs": [
    {
     "name": "stdout",
     "output_type": "stream",
     "text": [
      "data/\n",
      "├─categories/\n",
      "│ └─categories/\n",
      "│   ├─unique.item_brand.parquet\n",
      "│   ├─unique.item_category.parquet\n",
      "│   ├─unique.item_id.parquet\n",
      "│   ├─unique.item_shop.parquet\n",
      "│   ├─unique.user_age.parquet\n",
      "│   ├─unique.user_brands.parquet\n",
      "│   ├─unique.user_categories.parquet\n",
      "│   ├─unique.user_consumption_2.parquet\n",
      "│   ├─unique.user_gender.parquet\n",
      "│   └─unique.user_geography.parquet\n",
      "├─processed/\n",
      "│ ├─train/\n",
      "│ │ ├─_file_list.txt\n",
      "│ │ ├─_metadata\n",
      "│ │ ├─_metadata.json\n",
      "│ │ ├─part_0.parquet\n",
      "│ │ └─schema.pbtxt\n",
      "│ ├─valid/\n",
      "│ │ ├─_file_list.txt\n",
      "│ │ ├─_metadata\n",
      "│ │ ├─_metadata.json\n",
      "│ │ ├─part_0.parquet\n",
      "│ │ └─schema.pbtxt\n",
      "│ └─workflow/\n",
      "│   ├─categories/\n",
      "│   ├─metadata.json\n",
      "│   └─workflow.pkl\n",
      "└─workflow/\n",
      "  ├─categories/\n",
      "  │ ├─unique.item_brand.parquet\n",
      "  │ ├─unique.item_category.parquet\n",
      "  │ ├─unique.item_id.parquet\n",
      "  │ ├─unique.item_shop.parquet\n",
      "  │ ├─unique.user_age.parquet\n",
      "  │ ├─unique.user_brands.parquet\n",
      "  │ ├─unique.user_categories.parquet\n",
      "  │ ├─unique.user_consumption_2.parquet\n",
      "  │ ├─unique.user_gender.parquet\n",
      "  │ └─unique.user_geography.parquet\n",
      "  ├─metadata.json\n",
      "  └─workflow.pkl\n"
     ]
    }
   ],
   "source": [
    "import seedir as sd\n",
    "\n",
    "sd.seedir(\n",
    "    DATA_FOLDER,\n",
    "    style=\"lines\",\n",
    "    itemlimit=10,\n",
    "    depthlimit=3,\n",
    "    exclude_folders=\".ipynb_checkpoints\",\n",
    "    sort=True,\n",
    ")"
   ]
  },
  {
   "cell_type": "markdown",
   "id": "e7bc9307",
   "metadata": {},
   "source": [
    "Build and Train a DLRM model\n",
    "In this example, we build, train, and export a Deep Learning Recommendation Model (DLRM) architecture. To learn more about how to train different deep learning models, how easily transition from one model to another and the seamless integration between data preparation and model training visit 03-Exploring-different-models.ipynb notebook.\n",
    "\n",
    "NVTabular workflow above exports a schema file, schema.pbtxt, of our processed dataset. To learn more about the schema object, schema file and tags, you can explore 02-Merlin-Models-and-NVTabular-integration.ipynb.\n",
    "\n",
    "https://github.com/NVIDIA-Merlin/models/blob/7a1227d91fe574aeaec624508c52b670a0ad7862/examples/02-Merlin-Models-and-NVTabular-integration.ipynb"
   ]
  },
  {
   "cell_type": "code",
   "execution_count": 30,
   "id": "540db779",
   "metadata": {},
   "outputs": [],
   "source": [
    "# define train and valid dataset objects\n",
    "train = Dataset(os.path.join(output_path, \"train\", \"*.parquet\"))\n",
    "valid = Dataset(os.path.join(output_path, \"valid\", \"*.parquet\"))\n",
    "\n",
    "# define schema object\n",
    "schema = train.schema"
   ]
  },
  {
   "cell_type": "code",
   "execution_count": 31,
   "id": "54325949",
   "metadata": {},
   "outputs": [
    {
     "data": {
      "text/plain": [
       "'click'"
      ]
     },
     "execution_count": 31,
     "metadata": {},
     "output_type": "execute_result"
    }
   ],
   "source": [
    "target_column = schema.select_by_tag(Tags.TARGET).column_names[0]\n",
    "target_column"
   ]
  },
  {
   "cell_type": "code",
   "execution_count": 32,
   "id": "e391adc2",
   "metadata": {},
   "outputs": [],
   "source": [
    "model = mm.DLRMModel(\n",
    "    schema,\n",
    "    embedding_dim=64,\n",
    "    bottom_block=mm.MLPBlock([128, 64]),\n",
    "    top_block=mm.MLPBlock([128, 64, 32]),\n",
    "    prediction_tasks=mm.BinaryClassificationTask(target_column),\n",
    ")"
   ]
  },
  {
   "cell_type": "code",
   "execution_count": 33,
   "id": "56cf6a8e",
   "metadata": {},
   "outputs": [
    {
     "name": "stdout",
     "output_type": "stream",
     "text": [
      "14/14 [==============================] - 3s 60ms/step - loss: 0.6933 - auc_1: 0.4888 - regularization_loss: 0.0000e+00 - loss_batch: 0.6933 - val_loss: 0.6932 - val_auc_1: 0.5038 - val_regularization_loss: 0.0000e+00 - val_loss_batch: 0.6932\n",
      "Wall time: 3.61 s\n"
     ]
    },
    {
     "data": {
      "text/plain": [
       "<keras.callbacks.History at 0x2477273c1c0>"
      ]
     },
     "execution_count": 33,
     "metadata": {},
     "output_type": "execute_result"
    }
   ],
   "source": [
    "%%time\n",
    "\n",
    "model.compile(\"adam\", run_eagerly=False, metrics=[tf.keras.metrics.AUC()])\n",
    "model.fit(train, validation_data=valid, batch_size=BATCH_SIZE)"
   ]
  },
  {
   "cell_type": "markdown",
   "id": "7b87c783",
   "metadata": {},
   "source": [
    "## Save model\n",
    "The last step of machine learning (ML)/deep learning (DL) pipeline is to deploy the ETL workflow and saved model into production. In the production setting, we want to transform the input data as done during training (ETL). We need to apply the same mean/std for continuous features and use the same categorical mapping to convert the categories to continuous integer before we use the DL model for a prediction. Therefore, we deploy the NVTabular workflow with the Tensorflow model as an ensemble model to Triton Inference using Merlin Systems library very easily. The ensemble model guarantees that the same transformation is applied to the raw inputs.\n",
    "\n",
    "Let's save our DLRM model.\n",
    "https://github.com/NVIDIA-Merlin/systems"
   ]
  },
  {
   "cell_type": "code",
   "execution_count": 34,
   "id": "7d7adb06",
   "metadata": {},
   "outputs": [
    {
     "name": "stdout",
     "output_type": "stream",
     "text": [
      "INFO:tensorflow:Unsupported signature for serialization: ((PredictionOutput(predictions=TensorSpec(shape=(None, 1), dtype=tf.float32, name='outputs/predictions'), targets=TensorSpec(shape=(None, 1), dtype=tf.float32, name='outputs/targets'), positive_item_ids=None, label_relevant_counts=None, valid_negatives_mask=None, negative_item_ids=None, sample_weight=None), <tensorflow.python.framework.func_graph.UnknownArgument object at 0x0000024776D73340>), {}).\n"
     ]
    },
    {
     "name": "stderr",
     "output_type": "stream",
     "text": [
      "INFO:tensorflow:Unsupported signature for serialization: ((PredictionOutput(predictions=TensorSpec(shape=(None, 1), dtype=tf.float32, name='outputs/predictions'), targets=TensorSpec(shape=(None, 1), dtype=tf.float32, name='outputs/targets'), positive_item_ids=None, label_relevant_counts=None, valid_negatives_mask=None, negative_item_ids=None, sample_weight=None), <tensorflow.python.framework.func_graph.UnknownArgument object at 0x0000024776D73340>), {}).\n"
     ]
    },
    {
     "name": "stdout",
     "output_type": "stream",
     "text": [
      "INFO:tensorflow:Unsupported signature for serialization: ((PredictionOutput(predictions=TensorSpec(shape=(None, 1), dtype=tf.float32, name='outputs/predictions'), targets=TensorSpec(shape=(None, 1), dtype=tf.float32, name='outputs/targets'), positive_item_ids=None, label_relevant_counts=None, valid_negatives_mask=None, negative_item_ids=None, sample_weight=None), <tensorflow.python.framework.func_graph.UnknownArgument object at 0x0000024776D73340>), {}).\n"
     ]
    },
    {
     "name": "stderr",
     "output_type": "stream",
     "text": [
      "INFO:tensorflow:Unsupported signature for serialization: ((PredictionOutput(predictions=TensorSpec(shape=(None, 1), dtype=tf.float32, name='outputs/predictions'), targets=TensorSpec(shape=(None, 1), dtype=tf.float32, name='outputs/targets'), positive_item_ids=None, label_relevant_counts=None, valid_negatives_mask=None, negative_item_ids=None, sample_weight=None), <tensorflow.python.framework.func_graph.UnknownArgument object at 0x0000024776D73340>), {}).\n",
      "WARNING:absl:Found untraced functions such as train_compute_metrics, model_context_1_layer_call_fn, model_context_1_layer_call_and_return_conditional_losses, output_layer_layer_call_fn, output_layer_layer_call_and_return_conditional_losses while saving (showing 5 of 97). These functions will not be directly callable after loading.\n"
     ]
    },
    {
     "name": "stdout",
     "output_type": "stream",
     "text": [
      "INFO:tensorflow:Assets written to: /workspace/data/dlrm\\assets\n"
     ]
    },
    {
     "name": "stderr",
     "output_type": "stream",
     "text": [
      "INFO:tensorflow:Assets written to: /workspace/data/dlrm\\assets\n"
     ]
    }
   ],
   "source": [
    "model.save(os.path.join(DATA_FOLDER, \"dlrm\"))"
   ]
  },
  {
   "cell_type": "markdown",
   "id": "dcc70457",
   "metadata": {},
   "source": [
    "Deploying the model with Merlin Systems\n",
    "We trained and exported our ranking model and NVTabular workflow. In the next step, we will learn how to deploy our trained DLRM model into Triton Inference Server with Merlin Systems library. NVIDIA Triton Inference Server (TIS) simplifies the deployment of AI models at scale in production. TIS provides a cloud and edge inferencing solution optimized for both CPUs and GPUs. It supports a number of different machine learning frameworks such as TensorFlow and PyTorch.\n",
    "\n",
    "For the next step, visit Merlin Systems library and execute Serving-Ranking-Models-With-Merlin-Systems notebook to deploy our saved DLRM and NVTabular workflow models as an ensemble to TIS and obtain prediction results for a qiven request. In doing so, you need to mount the saved DLRM and NVTabular workflow to the inference container following the instructions in the README.md.\n",
    "https://github.com/NVIDIA-Merlin/systems\n",
    "https://github.com/triton-inference-server/server\n",
    "https://github.com/NVIDIA-Merlin/systems/blob/main/examples/Serving-Ranking-Models-With-Merlin-Systems.ipynb\n"
   ]
  },
  {
   "cell_type": "markdown",
   "id": "eb085c2b",
   "metadata": {},
   "source": [
    "## Serving Ranking Models With Merlin Systems\n",
    "This notebook is created using the latest stable merlin-tensorflow container. This Jupyter notebook example demonstrates how to deploy a ranking model to Triton Inference Server (TIS) and generate prediction results for a given query. As a prerequisite, the ranking model must be trained and saved with Merlin Models. Please read the README for the instructions.\n",
    "\n",
    "Overview\n",
    "NVIDIA Merlin is an open source framework that accelerates and scales end-to-end recommender system pipelines. The Merlin framework is broken up into several sub components, these include: Merlin-Core, Merlin-Models, NVTabular and Merlin-Systems. Merlin Systems will be the focus of this example.\n",
    "\n",
    "The purpose of the Merlin Systems library is to make it easy for Merlin users to quickly deploy their recommender systems from development to Triton Inference Server. We extended the same user-friendly API users are accustomed to in NVTabular and leveraged it to accommodate deploying recommender system components to TIS.\n",
    "\n",
    "There are some points we need ensure before we continue with this Notebook. Please ensure you have a working NVTabular workflow and model stored in an accessible location. Merlin Systems take the data preprocessing workflow defined in NVTabular and load that into Triton Inference Server as a model. Subsequently it does the same for the trained model. Lets take a closer look at how Merlin Systems makes deploying to TIS simple and effortless, in the rest of this notebook.\n",
    "\n",
    "Learning objectives\n",
    "In this notebook, we learn how to deploy a NVTabular Workflow and a trained Tensorflow model from Merlin Models to Triton.\n",
    "\n",
    "Load NVTabular Workflow\n",
    "Load Pre-trained Merlin Models model\n",
    "Create Ensemble Graph\n",
    "Export Ensemble Graph\n",
    "Run Tritonserver\n",
    "Send Request to Tritonserver\n",
    "Dataset\n",
    "We use the synthetic train and test datasets generated by mimicking the real Ali-CCP: Alibaba Click and Conversion Prediction dataset to build our recommender system ranking models. To see how the data is transformed with NVTabular and how a DLRM model is trained with Merlin Models check out the 04-Exporting-ranking-models.ipynb example notebook which is a prerequisite for this notebook.\n",
    "\n",
    "It is important to note that the steps take in this notebook are generalized and can be applied to any set of workflow and models.\n",
    "\n",
    "Tools\n",
    "NVTabular\n",
    "Merlin Models\n",
    "Merlin Systems\n",
    "Triton Inference Server\n",
    "Install Required Libraries\n",
    "Install TensorFlow so we can read the saved model from disk."
   ]
  },
  {
   "cell_type": "markdown",
   "id": "e55b493b",
   "metadata": {},
   "source": [
    "### Load an NVTabular Workflow\n",
    "First, we load the nvtabular.Workflow that we created in with this example."
   ]
  },
  {
   "cell_type": "code",
   "execution_count": 35,
   "id": "3d16eae3",
   "metadata": {},
   "outputs": [],
   "source": [
    "import os\n",
    "os.environ[\"TF_GPU_ALLOCATOR\"]=\"cuda_malloc_async\"\n",
    "from nvtabular.workflow import Workflow\n",
    "\n",
    "input_path = os.environ.get(\"INPUT_FOLDER\", \"/workspace/data\")\n",
    "\n",
    "workflow_stored_path = os.path.join(input_path, \"workflow\")\n",
    "\n",
    "workflow = Workflow.load(workflow_stored_path)"
   ]
  },
  {
   "cell_type": "markdown",
   "id": "292269f9",
   "metadata": {},
   "source": [
    "After we load the workflow, we remove the label columns from it's inputs. This removes all columns with the TARGET tag from the workflow. We do this because we need to set the workflow to only require the features needed to predict, not train, when creating an inference pipeline."
   ]
  },
  {
   "cell_type": "code",
   "execution_count": 36,
   "id": "d5e50fbc",
   "metadata": {},
   "outputs": [
    {
     "data": {
      "text/plain": [
       "<nvtabular.workflow.workflow.Workflow at 0x2476f16dbb0>"
      ]
     },
     "execution_count": 36,
     "metadata": {},
     "output_type": "execute_result"
    }
   ],
   "source": [
    "from merlin.schema.tags import Tags\n",
    "\n",
    "label_columns = workflow.output_schema.select_by_tag(Tags.TARGET).column_names\n",
    "workflow.remove_inputs(label_columns)"
   ]
  },
  {
   "cell_type": "markdown",
   "id": "8c27c8f1",
   "metadata": {},
   "source": [
    "Load the Tensorflow Model\n",
    "After loading the workflow, we load the model. This model was trained with the output of the workflow from the Exporting Ranking Models example from Merlin Models.\n",
    "\n",
    "First, we need to import the Merlin Models library. Loading a TensorFlow model, which is based on custom subclasses, requires to the subclass definition. Otherwise, TensorFlow cannot load correctly load the model."
   ]
  },
  {
   "cell_type": "code",
   "execution_count": 37,
   "id": "78c074b6",
   "metadata": {},
   "outputs": [],
   "source": [
    "import merlin.models.tf as mm"
   ]
  },
  {
   "cell_type": "code",
   "execution_count": 38,
   "id": "50358934",
   "metadata": {},
   "outputs": [
    {
     "name": "stderr",
     "output_type": "stream",
     "text": [
      "C:\\Users\\Sushanth S\\Class Lectures\\Internshp_SFC\\models-main\\merlin\\schema\\tags.py:148: UserWarning: Compound tags like Tags.USER_ID have been deprecated and will be removed in a future version. Please use the atomic versions of these tags, like [<Tags.USER: 'user'>, <Tags.ID: 'id'>].\n",
      "  warnings.warn(\n",
      "C:\\Users\\Sushanth S\\Class Lectures\\Internshp_SFC\\models-main\\merlin\\schema\\tags.py:148: UserWarning: Compound tags like Tags.ITEM_ID have been deprecated and will be removed in a future version. Please use the atomic versions of these tags, like [<Tags.ITEM: 'item'>, <Tags.ID: 'id'>].\n",
      "  warnings.warn(\n"
     ]
    }
   ],
   "source": [
    "import tensorflow as tf\n",
    "input_path = os.environ.get(\"INPUT_FOLDER\", \"/workspace/data\")\n",
    "tf_model_path = os.path.join(input_path, \"dlrm\")\n",
    "\n",
    "model = tf.keras.models.load_model(tf_model_path)"
   ]
  },
  {
   "cell_type": "markdown",
   "id": "a4f27ff9",
   "metadata": {},
   "source": [
    "### Create the Ensemble Graph\n",
    "After we have both the model and the workflow loaded, we can create the ensemble graph. You create the graph. The goal is to illustrate the path of data through your full system. In this example we only serve a workflow with a model, but you can add other components that help you meet your business logic requirements.\n",
    "\n",
    "Because this example has two components—a model and a workflow—we require two operators. These operators, also known as inference operators, are meant to abstract away all the \"hard parts\" of loading a specific component, such as a workflow or model, into Triton Inference Server.\n",
    "\n",
    "The following code block shows how to use two inference operators:\n",
    "\n",
    "TransformWorkflow\n",
    "This operator ensures that the workflow is correctly saved and packaged with the required config so the server will know how to load it.\n",
    "PredictTensorflow\n",
    "This operator will do something similar with the model, loaded before.\n",
    "Let's give it a try."
   ]
  },
  {
   "cell_type": "code",
   "execution_count": 39,
   "id": "bf792b12",
   "metadata": {},
   "outputs": [],
   "source": [
    "#!pip install tritonclient"
   ]
  },
  {
   "cell_type": "code",
   "execution_count": 40,
   "id": "0b7bb1e6",
   "metadata": {},
   "outputs": [],
   "source": [
    "from merlin.systems.dag.ops.workflow import TransformWorkflow\n",
    "from merlin.systems.dag.ops.tensorflow import PredictTensorflow\n",
    "\n",
    "serving_operators = workflow.input_schema.column_names >> TransformWorkflow(workflow) >> PredictTensorflow(model)"
   ]
  },
  {
   "cell_type": "markdown",
   "id": "3bcfa786",
   "metadata": {},
   "source": [
    "### Export Graph as Ensemble\n",
    "The last step is to create the ensemble artifacts that Triton Inference Server can consume. To make these artifacts, we import the Ensemble class. The class is responsible for interpreting the graph and exporting the correct files for the server.\n",
    "\n",
    "After you run the following cell, you'll see that we create a ColumnSchema for the expected inputs to the workflow. The workflow is a Schema.\n",
    "\n",
    "When you are creating an Ensemble object you supply the graph and a schema representing the starting input of the graph. the inputs to the ensemble graph are the inputs to the first operator of your graph.\n",
    "\n",
    "After you have created the Ensemble you export the graph, supplying an export path for the Ensemble.export function.\n",
    "\n",
    "This returns an ensemble config which represents the entire inference pipeline and a list of node-specific configs.\n",
    "\n",
    "Let's take a look below."
   ]
  },
  {
   "cell_type": "code",
   "execution_count": 50,
   "id": "68d56f1a",
   "metadata": {},
   "outputs": [
    {
     "data": {
      "text/html": [
       "<div>\n",
       "<style scoped>\n",
       "    .dataframe tbody tr th:only-of-type {\n",
       "        vertical-align: middle;\n",
       "    }\n",
       "\n",
       "    .dataframe tbody tr th {\n",
       "        vertical-align: top;\n",
       "    }\n",
       "\n",
       "    .dataframe thead th {\n",
       "        text-align: right;\n",
       "    }\n",
       "</style>\n",
       "<table border=\"1\" class=\"dataframe\">\n",
       "  <thead>\n",
       "    <tr style=\"text-align: right;\">\n",
       "      <th></th>\n",
       "      <th>name</th>\n",
       "      <th>tags</th>\n",
       "      <th>dtype</th>\n",
       "      <th>is_list</th>\n",
       "      <th>is_ragged</th>\n",
       "      <th>properties.num_buckets</th>\n",
       "      <th>properties.freq_threshold</th>\n",
       "      <th>properties.max_size</th>\n",
       "      <th>properties.start_index</th>\n",
       "      <th>properties.cat_path</th>\n",
       "      <th>properties.domain.min</th>\n",
       "      <th>properties.domain.max</th>\n",
       "      <th>properties.domain.name</th>\n",
       "      <th>properties.embedding_sizes.cardinality</th>\n",
       "      <th>properties.embedding_sizes.dimension</th>\n",
       "    </tr>\n",
       "  </thead>\n",
       "  <tbody>\n",
       "    <tr>\n",
       "      <th>0</th>\n",
       "      <td>user_id</td>\n",
       "      <td>(Tags.ID, Tags.USER, Tags.USER_ID, Tags.CATEGO...</td>\n",
       "      <td>int64</td>\n",
       "      <td>False</td>\n",
       "      <td>False</td>\n",
       "      <td>None</td>\n",
       "      <td>0</td>\n",
       "      <td>0</td>\n",
       "      <td>0</td>\n",
       "      <td>/workspace/data/categories/categories/unique.u...</td>\n",
       "      <td>0</td>\n",
       "      <td>244</td>\n",
       "      <td>user_id</td>\n",
       "      <td>245</td>\n",
       "      <td>35</td>\n",
       "    </tr>\n",
       "    <tr>\n",
       "      <th>1</th>\n",
       "      <td>item_id</td>\n",
       "      <td>(Tags.ID, Tags.ITEM, Tags.CATEGORICAL, Tags.IT...</td>\n",
       "      <td>int64</td>\n",
       "      <td>False</td>\n",
       "      <td>False</td>\n",
       "      <td>None</td>\n",
       "      <td>0</td>\n",
       "      <td>0</td>\n",
       "      <td>0</td>\n",
       "      <td>/workspace/data/categories/categories/unique.i...</td>\n",
       "      <td>0</td>\n",
       "      <td>250</td>\n",
       "      <td>item_id</td>\n",
       "      <td>251</td>\n",
       "      <td>35</td>\n",
       "    </tr>\n",
       "    <tr>\n",
       "      <th>2</th>\n",
       "      <td>item_category</td>\n",
       "      <td>(Tags.ITEM, Tags.CATEGORICAL)</td>\n",
       "      <td>int64</td>\n",
       "      <td>False</td>\n",
       "      <td>False</td>\n",
       "      <td>None</td>\n",
       "      <td>0</td>\n",
       "      <td>0</td>\n",
       "      <td>0</td>\n",
       "      <td>/workspace/data/categories/categories/unique.i...</td>\n",
       "      <td>0</td>\n",
       "      <td>250</td>\n",
       "      <td>item_category</td>\n",
       "      <td>251</td>\n",
       "      <td>35</td>\n",
       "    </tr>\n",
       "    <tr>\n",
       "      <th>3</th>\n",
       "      <td>item_shop</td>\n",
       "      <td>(Tags.ITEM, Tags.CATEGORICAL)</td>\n",
       "      <td>int64</td>\n",
       "      <td>False</td>\n",
       "      <td>False</td>\n",
       "      <td>None</td>\n",
       "      <td>0</td>\n",
       "      <td>0</td>\n",
       "      <td>0</td>\n",
       "      <td>/workspace/data/categories/categories/unique.i...</td>\n",
       "      <td>0</td>\n",
       "      <td>250</td>\n",
       "      <td>item_shop</td>\n",
       "      <td>251</td>\n",
       "      <td>35</td>\n",
       "    </tr>\n",
       "    <tr>\n",
       "      <th>4</th>\n",
       "      <td>item_brand</td>\n",
       "      <td>(Tags.ITEM, Tags.CATEGORICAL)</td>\n",
       "      <td>int64</td>\n",
       "      <td>False</td>\n",
       "      <td>False</td>\n",
       "      <td>None</td>\n",
       "      <td>0</td>\n",
       "      <td>0</td>\n",
       "      <td>0</td>\n",
       "      <td>/workspace/data/categories/categories/unique.i...</td>\n",
       "      <td>0</td>\n",
       "      <td>250</td>\n",
       "      <td>item_brand</td>\n",
       "      <td>251</td>\n",
       "      <td>35</td>\n",
       "    </tr>\n",
       "    <tr>\n",
       "      <th>5</th>\n",
       "      <td>user_shops</td>\n",
       "      <td>(Tags.USER, Tags.CATEGORICAL)</td>\n",
       "      <td>int64</td>\n",
       "      <td>False</td>\n",
       "      <td>False</td>\n",
       "      <td>None</td>\n",
       "      <td>0</td>\n",
       "      <td>0</td>\n",
       "      <td>0</td>\n",
       "      <td>/workspace/data/categories/categories/unique.u...</td>\n",
       "      <td>0</td>\n",
       "      <td>244</td>\n",
       "      <td>user_shops</td>\n",
       "      <td>245</td>\n",
       "      <td>35</td>\n",
       "    </tr>\n",
       "    <tr>\n",
       "      <th>6</th>\n",
       "      <td>user_profile</td>\n",
       "      <td>(Tags.USER, Tags.CATEGORICAL)</td>\n",
       "      <td>int64</td>\n",
       "      <td>False</td>\n",
       "      <td>False</td>\n",
       "      <td>None</td>\n",
       "      <td>0</td>\n",
       "      <td>0</td>\n",
       "      <td>0</td>\n",
       "      <td>/workspace/data/categories/categories/unique.u...</td>\n",
       "      <td>0</td>\n",
       "      <td>48</td>\n",
       "      <td>user_profile</td>\n",
       "      <td>49</td>\n",
       "      <td>16</td>\n",
       "    </tr>\n",
       "    <tr>\n",
       "      <th>7</th>\n",
       "      <td>user_group</td>\n",
       "      <td>(Tags.USER, Tags.CATEGORICAL)</td>\n",
       "      <td>int64</td>\n",
       "      <td>False</td>\n",
       "      <td>False</td>\n",
       "      <td>None</td>\n",
       "      <td>0</td>\n",
       "      <td>0</td>\n",
       "      <td>0</td>\n",
       "      <td>/workspace/data/categories/categories/unique.u...</td>\n",
       "      <td>0</td>\n",
       "      <td>10</td>\n",
       "      <td>user_group</td>\n",
       "      <td>11</td>\n",
       "      <td>16</td>\n",
       "    </tr>\n",
       "    <tr>\n",
       "      <th>8</th>\n",
       "      <td>user_gender</td>\n",
       "      <td>(Tags.USER, Tags.CATEGORICAL)</td>\n",
       "      <td>int64</td>\n",
       "      <td>False</td>\n",
       "      <td>False</td>\n",
       "      <td>None</td>\n",
       "      <td>0</td>\n",
       "      <td>0</td>\n",
       "      <td>0</td>\n",
       "      <td>/workspace/data/categories/categories/unique.u...</td>\n",
       "      <td>0</td>\n",
       "      <td>2</td>\n",
       "      <td>user_gender</td>\n",
       "      <td>3</td>\n",
       "      <td>16</td>\n",
       "    </tr>\n",
       "    <tr>\n",
       "      <th>9</th>\n",
       "      <td>user_age</td>\n",
       "      <td>(Tags.USER, Tags.CATEGORICAL)</td>\n",
       "      <td>int64</td>\n",
       "      <td>False</td>\n",
       "      <td>False</td>\n",
       "      <td>None</td>\n",
       "      <td>0</td>\n",
       "      <td>0</td>\n",
       "      <td>0</td>\n",
       "      <td>/workspace/data/categories/categories/unique.u...</td>\n",
       "      <td>0</td>\n",
       "      <td>6</td>\n",
       "      <td>user_age</td>\n",
       "      <td>7</td>\n",
       "      <td>16</td>\n",
       "    </tr>\n",
       "    <tr>\n",
       "      <th>10</th>\n",
       "      <td>user_consumption_2</td>\n",
       "      <td>(Tags.USER, Tags.CATEGORICAL)</td>\n",
       "      <td>int64</td>\n",
       "      <td>False</td>\n",
       "      <td>False</td>\n",
       "      <td>None</td>\n",
       "      <td>0</td>\n",
       "      <td>0</td>\n",
       "      <td>0</td>\n",
       "      <td>/workspace/data/categories/categories/unique.u...</td>\n",
       "      <td>0</td>\n",
       "      <td>3</td>\n",
       "      <td>user_consumption_2</td>\n",
       "      <td>4</td>\n",
       "      <td>16</td>\n",
       "    </tr>\n",
       "    <tr>\n",
       "      <th>11</th>\n",
       "      <td>user_is_occupied</td>\n",
       "      <td>(Tags.USER, Tags.CATEGORICAL)</td>\n",
       "      <td>int64</td>\n",
       "      <td>False</td>\n",
       "      <td>False</td>\n",
       "      <td>None</td>\n",
       "      <td>0</td>\n",
       "      <td>0</td>\n",
       "      <td>0</td>\n",
       "      <td>/workspace/data/categories/categories/unique.u...</td>\n",
       "      <td>0</td>\n",
       "      <td>2</td>\n",
       "      <td>user_is_occupied</td>\n",
       "      <td>3</td>\n",
       "      <td>16</td>\n",
       "    </tr>\n",
       "    <tr>\n",
       "      <th>12</th>\n",
       "      <td>user_geography</td>\n",
       "      <td>(Tags.USER, Tags.CATEGORICAL)</td>\n",
       "      <td>int64</td>\n",
       "      <td>False</td>\n",
       "      <td>False</td>\n",
       "      <td>None</td>\n",
       "      <td>0</td>\n",
       "      <td>0</td>\n",
       "      <td>0</td>\n",
       "      <td>/workspace/data/categories/categories/unique.u...</td>\n",
       "      <td>0</td>\n",
       "      <td>4</td>\n",
       "      <td>user_geography</td>\n",
       "      <td>5</td>\n",
       "      <td>16</td>\n",
       "    </tr>\n",
       "    <tr>\n",
       "      <th>13</th>\n",
       "      <td>user_intentions</td>\n",
       "      <td>(Tags.USER, Tags.CATEGORICAL)</td>\n",
       "      <td>int64</td>\n",
       "      <td>False</td>\n",
       "      <td>False</td>\n",
       "      <td>None</td>\n",
       "      <td>0</td>\n",
       "      <td>0</td>\n",
       "      <td>0</td>\n",
       "      <td>/workspace/data/categories/categories/unique.u...</td>\n",
       "      <td>0</td>\n",
       "      <td>244</td>\n",
       "      <td>user_intentions</td>\n",
       "      <td>245</td>\n",
       "      <td>35</td>\n",
       "    </tr>\n",
       "    <tr>\n",
       "      <th>14</th>\n",
       "      <td>user_brands</td>\n",
       "      <td>(Tags.USER, Tags.CATEGORICAL)</td>\n",
       "      <td>int64</td>\n",
       "      <td>False</td>\n",
       "      <td>False</td>\n",
       "      <td>None</td>\n",
       "      <td>0</td>\n",
       "      <td>0</td>\n",
       "      <td>0</td>\n",
       "      <td>/workspace/data/categories/categories/unique.u...</td>\n",
       "      <td>0</td>\n",
       "      <td>244</td>\n",
       "      <td>user_brands</td>\n",
       "      <td>245</td>\n",
       "      <td>35</td>\n",
       "    </tr>\n",
       "    <tr>\n",
       "      <th>15</th>\n",
       "      <td>user_categories</td>\n",
       "      <td>(Tags.USER, Tags.CATEGORICAL)</td>\n",
       "      <td>int64</td>\n",
       "      <td>False</td>\n",
       "      <td>False</td>\n",
       "      <td>None</td>\n",
       "      <td>0</td>\n",
       "      <td>0</td>\n",
       "      <td>0</td>\n",
       "      <td>/workspace/data/categories/categories/unique.u...</td>\n",
       "      <td>0</td>\n",
       "      <td>244</td>\n",
       "      <td>user_categories</td>\n",
       "      <td>245</td>\n",
       "      <td>35</td>\n",
       "    </tr>\n",
       "  </tbody>\n",
       "</table>\n",
       "</div>"
      ],
      "text/plain": [
       "[{'name': 'user_id', 'tags': {<Tags.ID: 'id'>, <Tags.USER: 'user'>, <Tags.USER_ID: 'user_id'>, <Tags.CATEGORICAL: 'categorical'>}, 'properties': {'num_buckets': None, 'freq_threshold': 0, 'max_size': 0, 'start_index': 0, 'cat_path': '/workspace/data/categories/categories/unique.user_id.parquet', 'domain': {'min': 0, 'max': 244, 'name': 'user_id'}, 'embedding_sizes': {'cardinality': 245, 'dimension': 35}}, 'dtype': dtype('int64'), 'is_list': False, 'is_ragged': False}, {'name': 'item_id', 'tags': {<Tags.ID: 'id'>, <Tags.ITEM: 'item'>, <Tags.CATEGORICAL: 'categorical'>, <Tags.ITEM_ID: 'item_id'>}, 'properties': {'num_buckets': None, 'freq_threshold': 0, 'max_size': 0, 'start_index': 0, 'cat_path': '/workspace/data/categories/categories/unique.item_id.parquet', 'domain': {'min': 0, 'max': 250, 'name': 'item_id'}, 'embedding_sizes': {'cardinality': 251, 'dimension': 35}}, 'dtype': dtype('int64'), 'is_list': False, 'is_ragged': False}, {'name': 'item_category', 'tags': {<Tags.ITEM: 'item'>, <Tags.CATEGORICAL: 'categorical'>}, 'properties': {'num_buckets': None, 'freq_threshold': 0, 'max_size': 0, 'start_index': 0, 'cat_path': '/workspace/data/categories/categories/unique.item_category.parquet', 'domain': {'min': 0, 'max': 250, 'name': 'item_category'}, 'embedding_sizes': {'cardinality': 251, 'dimension': 35}}, 'dtype': dtype('int64'), 'is_list': False, 'is_ragged': False}, {'name': 'item_shop', 'tags': {<Tags.ITEM: 'item'>, <Tags.CATEGORICAL: 'categorical'>}, 'properties': {'num_buckets': None, 'freq_threshold': 0, 'max_size': 0, 'start_index': 0, 'cat_path': '/workspace/data/categories/categories/unique.item_shop.parquet', 'domain': {'min': 0, 'max': 250, 'name': 'item_shop'}, 'embedding_sizes': {'cardinality': 251, 'dimension': 35}}, 'dtype': dtype('int64'), 'is_list': False, 'is_ragged': False}, {'name': 'item_brand', 'tags': {<Tags.ITEM: 'item'>, <Tags.CATEGORICAL: 'categorical'>}, 'properties': {'num_buckets': None, 'freq_threshold': 0, 'max_size': 0, 'start_index': 0, 'cat_path': '/workspace/data/categories/categories/unique.item_brand.parquet', 'domain': {'min': 0, 'max': 250, 'name': 'item_brand'}, 'embedding_sizes': {'cardinality': 251, 'dimension': 35}}, 'dtype': dtype('int64'), 'is_list': False, 'is_ragged': False}, {'name': 'user_shops', 'tags': {<Tags.USER: 'user'>, <Tags.CATEGORICAL: 'categorical'>}, 'properties': {'num_buckets': None, 'freq_threshold': 0, 'max_size': 0, 'start_index': 0, 'cat_path': '/workspace/data/categories/categories/unique.user_shops.parquet', 'domain': {'min': 0, 'max': 244, 'name': 'user_shops'}, 'embedding_sizes': {'cardinality': 245, 'dimension': 35}}, 'dtype': dtype('int64'), 'is_list': False, 'is_ragged': False}, {'name': 'user_profile', 'tags': {<Tags.USER: 'user'>, <Tags.CATEGORICAL: 'categorical'>}, 'properties': {'num_buckets': None, 'freq_threshold': 0, 'max_size': 0, 'start_index': 0, 'cat_path': '/workspace/data/categories/categories/unique.user_profile.parquet', 'domain': {'min': 0, 'max': 48, 'name': 'user_profile'}, 'embedding_sizes': {'cardinality': 49, 'dimension': 16}}, 'dtype': dtype('int64'), 'is_list': False, 'is_ragged': False}, {'name': 'user_group', 'tags': {<Tags.USER: 'user'>, <Tags.CATEGORICAL: 'categorical'>}, 'properties': {'num_buckets': None, 'freq_threshold': 0, 'max_size': 0, 'start_index': 0, 'cat_path': '/workspace/data/categories/categories/unique.user_group.parquet', 'domain': {'min': 0, 'max': 10, 'name': 'user_group'}, 'embedding_sizes': {'cardinality': 11, 'dimension': 16}}, 'dtype': dtype('int64'), 'is_list': False, 'is_ragged': False}, {'name': 'user_gender', 'tags': {<Tags.USER: 'user'>, <Tags.CATEGORICAL: 'categorical'>}, 'properties': {'num_buckets': None, 'freq_threshold': 0, 'max_size': 0, 'start_index': 0, 'cat_path': '/workspace/data/categories/categories/unique.user_gender.parquet', 'domain': {'min': 0, 'max': 2, 'name': 'user_gender'}, 'embedding_sizes': {'cardinality': 3, 'dimension': 16}}, 'dtype': dtype('int64'), 'is_list': False, 'is_ragged': False}, {'name': 'user_age', 'tags': {<Tags.USER: 'user'>, <Tags.CATEGORICAL: 'categorical'>}, 'properties': {'num_buckets': None, 'freq_threshold': 0, 'max_size': 0, 'start_index': 0, 'cat_path': '/workspace/data/categories/categories/unique.user_age.parquet', 'domain': {'min': 0, 'max': 6, 'name': 'user_age'}, 'embedding_sizes': {'cardinality': 7, 'dimension': 16}}, 'dtype': dtype('int64'), 'is_list': False, 'is_ragged': False}, {'name': 'user_consumption_2', 'tags': {<Tags.USER: 'user'>, <Tags.CATEGORICAL: 'categorical'>}, 'properties': {'num_buckets': None, 'freq_threshold': 0, 'max_size': 0, 'start_index': 0, 'cat_path': '/workspace/data/categories/categories/unique.user_consumption_2.parquet', 'domain': {'min': 0, 'max': 3, 'name': 'user_consumption_2'}, 'embedding_sizes': {'cardinality': 4, 'dimension': 16}}, 'dtype': dtype('int64'), 'is_list': False, 'is_ragged': False}, {'name': 'user_is_occupied', 'tags': {<Tags.USER: 'user'>, <Tags.CATEGORICAL: 'categorical'>}, 'properties': {'num_buckets': None, 'freq_threshold': 0, 'max_size': 0, 'start_index': 0, 'cat_path': '/workspace/data/categories/categories/unique.user_is_occupied.parquet', 'domain': {'min': 0, 'max': 2, 'name': 'user_is_occupied'}, 'embedding_sizes': {'cardinality': 3, 'dimension': 16}}, 'dtype': dtype('int64'), 'is_list': False, 'is_ragged': False}, {'name': 'user_geography', 'tags': {<Tags.USER: 'user'>, <Tags.CATEGORICAL: 'categorical'>}, 'properties': {'num_buckets': None, 'freq_threshold': 0, 'max_size': 0, 'start_index': 0, 'cat_path': '/workspace/data/categories/categories/unique.user_geography.parquet', 'domain': {'min': 0, 'max': 4, 'name': 'user_geography'}, 'embedding_sizes': {'cardinality': 5, 'dimension': 16}}, 'dtype': dtype('int64'), 'is_list': False, 'is_ragged': False}, {'name': 'user_intentions', 'tags': {<Tags.USER: 'user'>, <Tags.CATEGORICAL: 'categorical'>}, 'properties': {'num_buckets': None, 'freq_threshold': 0, 'max_size': 0, 'start_index': 0, 'cat_path': '/workspace/data/categories/categories/unique.user_intentions.parquet', 'domain': {'min': 0, 'max': 244, 'name': 'user_intentions'}, 'embedding_sizes': {'cardinality': 245, 'dimension': 35}}, 'dtype': dtype('int64'), 'is_list': False, 'is_ragged': False}, {'name': 'user_brands', 'tags': {<Tags.USER: 'user'>, <Tags.CATEGORICAL: 'categorical'>}, 'properties': {'num_buckets': None, 'freq_threshold': 0, 'max_size': 0, 'start_index': 0, 'cat_path': '/workspace/data/categories/categories/unique.user_brands.parquet', 'domain': {'min': 0, 'max': 244, 'name': 'user_brands'}, 'embedding_sizes': {'cardinality': 245, 'dimension': 35}}, 'dtype': dtype('int64'), 'is_list': False, 'is_ragged': False}, {'name': 'user_categories', 'tags': {<Tags.USER: 'user'>, <Tags.CATEGORICAL: 'categorical'>}, 'properties': {'num_buckets': None, 'freq_threshold': 0, 'max_size': 0, 'start_index': 0, 'cat_path': '/workspace/data/categories/categories/unique.user_categories.parquet', 'domain': {'min': 0, 'max': 244, 'name': 'user_categories'}, 'embedding_sizes': {'cardinality': 245, 'dimension': 35}}, 'dtype': dtype('int64'), 'is_list': False, 'is_ragged': False}]"
      ]
     },
     "execution_count": 50,
     "metadata": {},
     "output_type": "execute_result"
    }
   ],
   "source": [
    "workflow.output_schema"
   ]
  },
  {
   "cell_type": "code",
   "execution_count": 128,
   "id": "7900416c",
   "metadata": {},
   "outputs": [
    {
     "ename": "AttributeError",
     "evalue": "'SelectionOp' object has no attribute 'export_name'",
     "output_type": "error",
     "traceback": [
      "\u001b[1;31m---------------------------------------------------------------------------\u001b[0m",
      "\u001b[1;31mAttributeError\u001b[0m                            Traceback (most recent call last)",
      "\u001b[1;32m~\\AppData\\Local\\Temp\\ipykernel_17776\\639411352.py\u001b[0m in \u001b[0;36m<module>\u001b[1;34m\u001b[0m\n\u001b[0;32m      6\u001b[0m \u001b[0mexport_path\u001b[0m \u001b[1;33m=\u001b[0m \u001b[0mos\u001b[0m\u001b[1;33m.\u001b[0m\u001b[0mpath\u001b[0m\u001b[1;33m.\u001b[0m\u001b[0mjoin\u001b[0m\u001b[1;33m(\u001b[0m\u001b[0minput_path\u001b[0m\u001b[1;33m,\u001b[0m \u001b[1;34m\"ensemble\"\u001b[0m\u001b[1;33m)\u001b[0m\u001b[1;33m\u001b[0m\u001b[1;33m\u001b[0m\u001b[0m\n\u001b[0;32m      7\u001b[0m \u001b[1;33m\u001b[0m\u001b[0m\n\u001b[1;32m----> 8\u001b[1;33m \u001b[0mens_conf\u001b[0m\u001b[1;33m,\u001b[0m \u001b[0mnode_confs\u001b[0m \u001b[1;33m=\u001b[0m \u001b[0mensemble\u001b[0m\u001b[1;33m.\u001b[0m\u001b[0mexport\u001b[0m\u001b[1;33m(\u001b[0m\u001b[0mexport_path\u001b[0m\u001b[1;33m)\u001b[0m\u001b[1;33m\u001b[0m\u001b[1;33m\u001b[0m\u001b[0m\n\u001b[0m",
      "\u001b[1;32m~\\Class Lectures\\Internshp_SFC\\models-main\\merlin\\systems\\dag\\ensemble.py\u001b[0m in \u001b[0;36mexport\u001b[1;34m(self, export_path, version)\u001b[0m\n\u001b[0;32m    105\u001b[0m             \u001b[1;32mif\u001b[0m \u001b[0mnode\u001b[0m\u001b[1;33m.\u001b[0m\u001b[0mexportable\u001b[0m\u001b[1;33m:\u001b[0m\u001b[1;33m\u001b[0m\u001b[1;33m\u001b[0m\u001b[0m\n\u001b[0;32m    106\u001b[0m                 \u001b[0mnode_id\u001b[0m \u001b[1;33m=\u001b[0m \u001b[0mnode_id_lookup\u001b[0m\u001b[1;33m.\u001b[0m\u001b[0mget\u001b[0m\u001b[1;33m(\u001b[0m\u001b[0mnode\u001b[0m\u001b[1;33m,\u001b[0m \u001b[1;32mNone\u001b[0m\u001b[1;33m)\u001b[0m\u001b[1;33m\u001b[0m\u001b[1;33m\u001b[0m\u001b[0m\n\u001b[1;32m--> 107\u001b[1;33m                 \u001b[0mnode_name\u001b[0m \u001b[1;33m=\u001b[0m \u001b[1;34mf\"{node_id}_{node.export_name}\"\u001b[0m\u001b[1;33m\u001b[0m\u001b[1;33m\u001b[0m\u001b[0m\n\u001b[0m\u001b[0;32m    108\u001b[0m \u001b[1;33m\u001b[0m\u001b[0m\n\u001b[0;32m    109\u001b[0m                 \u001b[0mfound\u001b[0m \u001b[1;33m=\u001b[0m \u001b[1;32mFalse\u001b[0m\u001b[1;33m\u001b[0m\u001b[1;33m\u001b[0m\u001b[0m\n",
      "\u001b[1;32m~\\Class Lectures\\Internshp_SFC\\models-main\\merlin\\systems\\dag\\node.py\u001b[0m in \u001b[0;36mexport_name\u001b[1;34m(self)\u001b[0m\n\u001b[0;32m     56\u001b[0m             \u001b[0mName\u001b[0m \u001b[0msupplied\u001b[0m \u001b[0mby\u001b[0m \u001b[0mthis\u001b[0m \u001b[0mnode\u001b[0m\u001b[0;31m'\u001b[0m\u001b[0ms\u001b[0m \u001b[0moperator\u001b[0m\u001b[1;33m.\u001b[0m\u001b[1;33m\u001b[0m\u001b[1;33m\u001b[0m\u001b[0m\n\u001b[0;32m     57\u001b[0m         \"\"\"\n\u001b[1;32m---> 58\u001b[1;33m         \u001b[1;32mreturn\u001b[0m \u001b[0mself\u001b[0m\u001b[1;33m.\u001b[0m\u001b[0mop\u001b[0m\u001b[1;33m.\u001b[0m\u001b[0mexport_name\u001b[0m\u001b[1;33m\u001b[0m\u001b[1;33m\u001b[0m\u001b[0m\n\u001b[0m\u001b[0;32m     59\u001b[0m \u001b[1;33m\u001b[0m\u001b[0m\n\u001b[0;32m     60\u001b[0m     \u001b[1;32mdef\u001b[0m \u001b[0mvalidate_schemas\u001b[0m\u001b[1;33m(\u001b[0m\u001b[0mself\u001b[0m\u001b[1;33m,\u001b[0m \u001b[0mroot_schema\u001b[0m\u001b[1;33m,\u001b[0m \u001b[0mstrict_dtypes\u001b[0m\u001b[1;33m=\u001b[0m\u001b[1;32mFalse\u001b[0m\u001b[1;33m)\u001b[0m\u001b[1;33m:\u001b[0m\u001b[1;33m\u001b[0m\u001b[1;33m\u001b[0m\u001b[0m\n",
      "\u001b[1;31mAttributeError\u001b[0m: 'SelectionOp' object has no attribute 'export_name'"
     ]
    }
   ],
   "source": [
    "from merlin.systems.dag.ensemble import Ensemble\n",
    "import numpy as np\n",
    "\n",
    "ensemble = Ensemble(serving_operators, workflow.input_schema)\n",
    "\n",
    "export_path = os.path.join(input_path, \"ensemble\")\n",
    "\n",
    "ens_conf, node_confs = ensemble.export(export_path)"
   ]
  },
  {
   "cell_type": "code",
   "execution_count": 122,
   "id": "ec599cc7",
   "metadata": {},
   "outputs": [
    {
     "data": {
      "text/plain": [
       "'/workspace/data\\\\ensemble'"
      ]
     },
     "execution_count": 122,
     "metadata": {},
     "output_type": "execute_result"
    }
   ],
   "source": [
    "export_path"
   ]
  },
  {
   "cell_type": "markdown",
   "id": "8e5fa5f4",
   "metadata": {},
   "source": [
    "##### Retrieving Recommendations from Triton Inference Server\n",
    "Now that our server is running, we can send requests to it. This request is composed of values that correspond to the request schema that was created when we exported the ensemble graph.\n",
    "\n",
    "In the code below we create a request to send to triton and send it. We will then analyze the response, to show the full experience.\n",
    "\n",
    "First we need to ensure that we have a client connected to the server that we started. To do this, we use the Triton HTTP client library.\n",
    "\n"
   ]
  },
  {
   "cell_type": "code",
   "execution_count": 113,
   "id": "ac4d1223",
   "metadata": {},
   "outputs": [
    {
     "name": "stdout",
     "output_type": "stream",
     "text": [
      "client created.\n"
     ]
    }
   ],
   "source": [
    "import tritonclient.http as client\n",
    "\n",
    "# Create a triton client\n",
    "try:\n",
    "    triton_client = client.InferenceServerClient(url=\"localhost:8000\", verbose=True)\n",
    "    print(\"client created.\")\n",
    "except Exception as e:\n",
    "    print(\"channel creation failed: \" + str(e))"
   ]
  },
  {
   "cell_type": "code",
   "execution_count": 114,
   "id": "cc5fba57",
   "metadata": {},
   "outputs": [],
   "source": [
    "# ensure triton is in a good state\n",
    "#triton_client.is_server_live()\n",
    "#triton_client.get_model_repository_index()"
   ]
  },
  {
   "cell_type": "code",
   "execution_count": 116,
   "id": "ef018e3b",
   "metadata": {},
   "outputs": [
    {
     "data": {
      "text/html": [
       "<div>\n",
       "<style scoped>\n",
       "    .dataframe tbody tr th:only-of-type {\n",
       "        vertical-align: middle;\n",
       "    }\n",
       "\n",
       "    .dataframe tbody tr th {\n",
       "        vertical-align: top;\n",
       "    }\n",
       "\n",
       "    .dataframe thead th {\n",
       "        text-align: right;\n",
       "    }\n",
       "</style>\n",
       "<table border=\"1\" class=\"dataframe\">\n",
       "  <thead>\n",
       "    <tr style=\"text-align: right;\">\n",
       "      <th></th>\n",
       "      <th>user_id</th>\n",
       "      <th>item_id</th>\n",
       "      <th>item_category</th>\n",
       "      <th>item_shop</th>\n",
       "      <th>item_brand</th>\n",
       "      <th>user_shops</th>\n",
       "      <th>user_profile</th>\n",
       "      <th>user_group</th>\n",
       "      <th>user_gender</th>\n",
       "      <th>user_age</th>\n",
       "      <th>user_consumption_2</th>\n",
       "      <th>user_is_occupied</th>\n",
       "      <th>user_geography</th>\n",
       "      <th>user_intentions</th>\n",
       "      <th>user_brands</th>\n",
       "      <th>user_categories</th>\n",
       "    </tr>\n",
       "  </thead>\n",
       "  <tbody>\n",
       "    <tr>\n",
       "      <th>0</th>\n",
       "      <td>14</td>\n",
       "      <td>8</td>\n",
       "      <td>8</td>\n",
       "      <td>8</td>\n",
       "      <td>8</td>\n",
       "      <td>14</td>\n",
       "      <td>2</td>\n",
       "      <td>1</td>\n",
       "      <td>1</td>\n",
       "      <td>1</td>\n",
       "      <td>1</td>\n",
       "      <td>1</td>\n",
       "      <td>1</td>\n",
       "      <td>14</td>\n",
       "      <td>14</td>\n",
       "      <td>14</td>\n",
       "    </tr>\n",
       "    <tr>\n",
       "      <th>1</th>\n",
       "      <td>3</td>\n",
       "      <td>39</td>\n",
       "      <td>39</td>\n",
       "      <td>39</td>\n",
       "      <td>39</td>\n",
       "      <td>3</td>\n",
       "      <td>1</td>\n",
       "      <td>1</td>\n",
       "      <td>1</td>\n",
       "      <td>1</td>\n",
       "      <td>1</td>\n",
       "      <td>1</td>\n",
       "      <td>1</td>\n",
       "      <td>3</td>\n",
       "      <td>3</td>\n",
       "      <td>3</td>\n",
       "    </tr>\n",
       "    <tr>\n",
       "      <th>2</th>\n",
       "      <td>29</td>\n",
       "      <td>8</td>\n",
       "      <td>8</td>\n",
       "      <td>8</td>\n",
       "      <td>8</td>\n",
       "      <td>29</td>\n",
       "      <td>4</td>\n",
       "      <td>1</td>\n",
       "      <td>1</td>\n",
       "      <td>1</td>\n",
       "      <td>1</td>\n",
       "      <td>1</td>\n",
       "      <td>1</td>\n",
       "      <td>29</td>\n",
       "      <td>29</td>\n",
       "      <td>29</td>\n",
       "    </tr>\n",
       "    <tr>\n",
       "      <th>3</th>\n",
       "      <td>32</td>\n",
       "      <td>10</td>\n",
       "      <td>10</td>\n",
       "      <td>10</td>\n",
       "      <td>10</td>\n",
       "      <td>32</td>\n",
       "      <td>4</td>\n",
       "      <td>1</td>\n",
       "      <td>1</td>\n",
       "      <td>1</td>\n",
       "      <td>1</td>\n",
       "      <td>1</td>\n",
       "      <td>1</td>\n",
       "      <td>32</td>\n",
       "      <td>32</td>\n",
       "      <td>32</td>\n",
       "    </tr>\n",
       "    <tr>\n",
       "      <th>4</th>\n",
       "      <td>8</td>\n",
       "      <td>15</td>\n",
       "      <td>15</td>\n",
       "      <td>15</td>\n",
       "      <td>15</td>\n",
       "      <td>8</td>\n",
       "      <td>2</td>\n",
       "      <td>1</td>\n",
       "      <td>1</td>\n",
       "      <td>1</td>\n",
       "      <td>1</td>\n",
       "      <td>1</td>\n",
       "      <td>1</td>\n",
       "      <td>8</td>\n",
       "      <td>8</td>\n",
       "      <td>8</td>\n",
       "    </tr>\n",
       "    <tr>\n",
       "      <th>...</th>\n",
       "      <td>...</td>\n",
       "      <td>...</td>\n",
       "      <td>...</td>\n",
       "      <td>...</td>\n",
       "      <td>...</td>\n",
       "      <td>...</td>\n",
       "      <td>...</td>\n",
       "      <td>...</td>\n",
       "      <td>...</td>\n",
       "      <td>...</td>\n",
       "      <td>...</td>\n",
       "      <td>...</td>\n",
       "      <td>...</td>\n",
       "      <td>...</td>\n",
       "      <td>...</td>\n",
       "      <td>...</td>\n",
       "    </tr>\n",
       "    <tr>\n",
       "      <th>2995</th>\n",
       "      <td>6</td>\n",
       "      <td>43</td>\n",
       "      <td>43</td>\n",
       "      <td>43</td>\n",
       "      <td>43</td>\n",
       "      <td>6</td>\n",
       "      <td>1</td>\n",
       "      <td>1</td>\n",
       "      <td>1</td>\n",
       "      <td>1</td>\n",
       "      <td>1</td>\n",
       "      <td>1</td>\n",
       "      <td>1</td>\n",
       "      <td>6</td>\n",
       "      <td>6</td>\n",
       "      <td>6</td>\n",
       "    </tr>\n",
       "    <tr>\n",
       "      <th>2996</th>\n",
       "      <td>25</td>\n",
       "      <td>10</td>\n",
       "      <td>10</td>\n",
       "      <td>10</td>\n",
       "      <td>10</td>\n",
       "      <td>25</td>\n",
       "      <td>3</td>\n",
       "      <td>1</td>\n",
       "      <td>1</td>\n",
       "      <td>1</td>\n",
       "      <td>1</td>\n",
       "      <td>1</td>\n",
       "      <td>1</td>\n",
       "      <td>25</td>\n",
       "      <td>25</td>\n",
       "      <td>25</td>\n",
       "    </tr>\n",
       "    <tr>\n",
       "      <th>2997</th>\n",
       "      <td>39</td>\n",
       "      <td>49</td>\n",
       "      <td>49</td>\n",
       "      <td>49</td>\n",
       "      <td>49</td>\n",
       "      <td>39</td>\n",
       "      <td>5</td>\n",
       "      <td>1</td>\n",
       "      <td>1</td>\n",
       "      <td>1</td>\n",
       "      <td>1</td>\n",
       "      <td>1</td>\n",
       "      <td>1</td>\n",
       "      <td>39</td>\n",
       "      <td>39</td>\n",
       "      <td>39</td>\n",
       "    </tr>\n",
       "    <tr>\n",
       "      <th>2998</th>\n",
       "      <td>19</td>\n",
       "      <td>24</td>\n",
       "      <td>24</td>\n",
       "      <td>24</td>\n",
       "      <td>24</td>\n",
       "      <td>19</td>\n",
       "      <td>3</td>\n",
       "      <td>1</td>\n",
       "      <td>1</td>\n",
       "      <td>1</td>\n",
       "      <td>1</td>\n",
       "      <td>1</td>\n",
       "      <td>1</td>\n",
       "      <td>19</td>\n",
       "      <td>19</td>\n",
       "      <td>19</td>\n",
       "    </tr>\n",
       "    <tr>\n",
       "      <th>2999</th>\n",
       "      <td>27</td>\n",
       "      <td>9</td>\n",
       "      <td>9</td>\n",
       "      <td>9</td>\n",
       "      <td>9</td>\n",
       "      <td>27</td>\n",
       "      <td>4</td>\n",
       "      <td>1</td>\n",
       "      <td>1</td>\n",
       "      <td>1</td>\n",
       "      <td>1</td>\n",
       "      <td>1</td>\n",
       "      <td>1</td>\n",
       "      <td>27</td>\n",
       "      <td>27</td>\n",
       "      <td>27</td>\n",
       "    </tr>\n",
       "  </tbody>\n",
       "</table>\n",
       "<p>3000 rows × 16 columns</p>\n",
       "</div>"
      ],
      "text/plain": [
       "      user_id  item_id  item_category  item_shop  item_brand  user_shops  \\\n",
       "0          14        8              8          8           8          14   \n",
       "1           3       39             39         39          39           3   \n",
       "2          29        8              8          8           8          29   \n",
       "3          32       10             10         10          10          32   \n",
       "4           8       15             15         15          15           8   \n",
       "...       ...      ...            ...        ...         ...         ...   \n",
       "2995        6       43             43         43          43           6   \n",
       "2996       25       10             10         10          10          25   \n",
       "2997       39       49             49         49          49          39   \n",
       "2998       19       24             24         24          24          19   \n",
       "2999       27        9              9          9           9          27   \n",
       "\n",
       "      user_profile  user_group  user_gender  user_age  user_consumption_2  \\\n",
       "0                2           1            1         1                   1   \n",
       "1                1           1            1         1                   1   \n",
       "2                4           1            1         1                   1   \n",
       "3                4           1            1         1                   1   \n",
       "4                2           1            1         1                   1   \n",
       "...            ...         ...          ...       ...                 ...   \n",
       "2995             1           1            1         1                   1   \n",
       "2996             3           1            1         1                   1   \n",
       "2997             5           1            1         1                   1   \n",
       "2998             3           1            1         1                   1   \n",
       "2999             4           1            1         1                   1   \n",
       "\n",
       "      user_is_occupied  user_geography  user_intentions  user_brands  \\\n",
       "0                    1               1               14           14   \n",
       "1                    1               1                3            3   \n",
       "2                    1               1               29           29   \n",
       "3                    1               1               32           32   \n",
       "4                    1               1                8            8   \n",
       "...                ...             ...              ...          ...   \n",
       "2995                 1               1                6            6   \n",
       "2996                 1               1               25           25   \n",
       "2997                 1               1               39           39   \n",
       "2998                 1               1               19           19   \n",
       "2999                 1               1               27           27   \n",
       "\n",
       "      user_categories  \n",
       "0                  14  \n",
       "1                   3  \n",
       "2                  29  \n",
       "3                  32  \n",
       "4                   8  \n",
       "...               ...  \n",
       "2995                6  \n",
       "2996               25  \n",
       "2997               39  \n",
       "2998               19  \n",
       "2999               27  \n",
       "\n",
       "[3000 rows x 16 columns]"
      ]
     },
     "execution_count": 116,
     "metadata": {},
     "output_type": "execute_result"
    }
   ],
   "source": [
    "from merlin.core.dispatch import get_lib\n",
    "\n",
    "df_lib = get_lib()\n",
    "\n",
    "original_data_path = os.environ.get(\"INPUT_FOLDER\", \"/workspace/data/processed\")\n",
    "\n",
    "# read in data for request\n",
    "batch = df_lib.read_parquet(\n",
    "    os.path.join(original_data_path,\"valid\", \"part.0.parquet\"),columns=workflow.input_schema.column_names\n",
    ")\n",
    "batch"
   ]
  },
  {
   "cell_type": "code",
   "execution_count": 80,
   "id": "ec751e1f",
   "metadata": {},
   "outputs": [],
   "source": [
    "from merlin.systems.triton import convert_df_to_triton_input\n",
    "import tritonclient.grpc as grpcclient\n",
    "# create inputs and outputs\n",
    "\n",
    "inputs = convert_df_to_triton_input(workflow.input_schema, batch, grpcclient.InferInput)\n",
    "output_cols = ensemble.graph.output_schema.column_names\n",
    "outputs = [\n",
    "    grpcclient.InferRequestedOutput(col)\n",
    "    for col in output_cols\n",
    "]"
   ]
  },
  {
   "cell_type": "code",
   "execution_count": 112,
   "id": "5487ae74",
   "metadata": {},
   "outputs": [
    {
     "data": {
      "text/plain": [
       "[<tritonclient.grpc.InferRequestedOutput at 0x2477ee6a820>]"
      ]
     },
     "execution_count": 112,
     "metadata": {},
     "output_type": "execute_result"
    }
   ],
   "source": [
    "outputs"
   ]
  },
  {
   "cell_type": "markdown",
   "id": "afd534d1",
   "metadata": {},
   "source": [
    "## Retrieving Recommendations from Triton Inference Server\n",
    "Now that our server is running, we can send requests to it. This request is composed of values that correspond to the request schema that was created when we exported the ensemble graph.\n",
    "\n",
    "In the code below we create a request to send to triton and send it. We will then analyze the response, to show the full experience.\n",
    "\n",
    "First we need to ensure that we have a client connected to the server that we started. To do this, we use the Triton HTTP client library.\n",
    "https://github.com/triton-inference-server/server"
   ]
  },
  {
   "cell_type": "code",
   "execution_count": 94,
   "id": "497c2257",
   "metadata": {},
   "outputs": [
    {
     "name": "stdout",
     "output_type": "stream",
     "text": [
      "client created.\n"
     ]
    }
   ],
   "source": [
    "import tritonclient.http as client\n",
    "\n",
    "# Create a triton client\n",
    "try:\n",
    "    triton_client = client.InferenceServerClient(url=\"192.168.12.12:12345\", verbose=True)\n",
    "    print(\"client created.\")\n",
    "except Exception as e:\n",
    "    print(\"channel creation failed: \" + str(e))"
   ]
  },
  {
   "cell_type": "code",
   "execution_count": 88,
   "id": "9a7821fe",
   "metadata": {},
   "outputs": [],
   "source": [
    "#!pip install tritonclient[all]"
   ]
  },
  {
   "cell_type": "code",
   "execution_count": 99,
   "id": "13011a28",
   "metadata": {},
   "outputs": [],
   "source": [
    "# ensure triton is in a good state\n",
    "#triton_client.is_server_live()\n",
    "#triton_client.get_model_repository_index()"
   ]
  },
  {
   "cell_type": "code",
   "execution_count": 123,
   "id": "81fe4fae",
   "metadata": {},
   "outputs": [],
   "source": [
    "from merlin.systems.triton import convert_df_to_triton_input\n",
    "import tritonclient.grpc as grpcclient\n",
    "# create inputs and outputs\n",
    "\n",
    "inputs = convert_df_to_triton_input(workflow.input_schema, batch, grpcclient.InferInput)\n",
    "\n",
    "output_cols = ensemble.graph.output_schema.column_names\n",
    "\n",
    "outputs = [\n",
    "    grpcclient.InferRequestedOutput(col)\n",
    "    for col in output_cols\n",
    "]"
   ]
  },
  {
   "cell_type": "code",
   "execution_count": 124,
   "id": "e4505a7a",
   "metadata": {},
   "outputs": [],
   "source": [
    "cols = ensemble.graph.output_schema.column_names"
   ]
  },
  {
   "cell_type": "code",
   "execution_count": 125,
   "id": "aa9305c8",
   "metadata": {},
   "outputs": [
    {
     "name": "stdout",
     "output_type": "stream",
     "text": [
      "click/binary_classification_task\n"
     ]
    }
   ],
   "source": [
    "for i in cols:\n",
    "    print(i)"
   ]
  },
  {
   "cell_type": "code",
   "execution_count": null,
   "id": "ff123304",
   "metadata": {},
   "outputs": [],
   "source": []
  }
 ],
 "metadata": {
  "kernelspec": {
   "display_name": "Python 3 (ipykernel)",
   "language": "python",
   "name": "python3"
  },
  "language_info": {
   "codemirror_mode": {
    "name": "ipython",
    "version": 3
   },
   "file_extension": ".py",
   "mimetype": "text/x-python",
   "name": "python",
   "nbconvert_exporter": "python",
   "pygments_lexer": "ipython3",
   "version": "3.9.13"
  }
 },
 "nbformat": 4,
 "nbformat_minor": 5
}
